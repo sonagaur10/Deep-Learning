{
  "nbformat": 4,
  "nbformat_minor": 0,
  "metadata": {
    "colab": {
      "provenance": [],
      "collapsed_sections": []
    },
    "kernelspec": {
      "name": "python3",
      "display_name": "Python 3"
    },
    "language_info": {
      "name": "python"
    }
  },
  "cells": [
    {
      "cell_type": "code",
      "execution_count": null,
      "metadata": {
        "id": "T8yPugusmAL1"
      },
      "outputs": [],
      "source": [
        "import pandas as pd\n",
        "import numpy as np\n",
        "import os\n",
        "import string\n",
        "import seaborn as sns\n",
        "import matplotlib.pyplot as plt\n",
        "from nltk.corpus import stopwords\n",
        "from sklearn.feature_extraction.text import CountVectorizer\n",
        "from sklearn.feature_extraction.text import TfidfTransformer\n",
        "from sklearn.model_selection import train_test_split\n",
        "from sklearn.svm import SVC\n",
        "from collections import Counter\n",
        "from sklearn.metrics import classification_report,confusion_matrix\n",
        "from sklearn.model_selection import GridSearchCV\n",
        "%matplotlib inline"
      ]
    },
    {
      "cell_type": "markdown",
      "source": [
        "https://www.kaggle.com/datasets/venky73/spam-mails-dataset[link text](https:// [link text](https://))"
      ],
      "metadata": {
        "id": "HsaZNu8aLW0p"
      }
    },
    {
      "cell_type": "code",
      "source": [
        "from google.colab import drive\n",
        "drive.mount('/content/drive')"
      ],
      "metadata": {
        "colab": {
          "base_uri": "https://localhost:8080/"
        },
        "id": "cOw71p5iKIH3",
        "outputId": "fb442f2c-0055-44b6-d570-ac680a80b912"
      },
      "execution_count": null,
      "outputs": [
        {
          "output_type": "stream",
          "name": "stdout",
          "text": [
            "Mounted at /content/drive\n"
          ]
        }
      ]
    },
    {
      "cell_type": "code",
      "source": [
        "path = \"/content/drive/MyDrive/Email_Classification\""
      ],
      "metadata": {
        "id": "Di0cwrU6LTnL"
      },
      "execution_count": null,
      "outputs": []
    },
    {
      "cell_type": "code",
      "source": [
        "os.chdir(path)"
      ],
      "metadata": {
        "id": "c4D6-V31LeO-"
      },
      "execution_count": null,
      "outputs": []
    },
    {
      "cell_type": "code",
      "source": [
        "os.listdir()"
      ],
      "metadata": {
        "colab": {
          "base_uri": "https://localhost:8080/"
        },
        "id": "TYo0yhnJLrml",
        "outputId": "8f74ed7d-3453-44dc-9a59-a8cf5fa3a23f"
      },
      "execution_count": null,
      "outputs": [
        {
          "output_type": "execute_result",
          "data": {
            "text/plain": [
              "['spam_ham_dataset.csv']"
            ]
          },
          "metadata": {},
          "execution_count": 5
        }
      ]
    },
    {
      "cell_type": "markdown",
      "source": [
        "Data  Exploration"
      ],
      "metadata": {
        "id": "Uor_-VqmL0Ow"
      }
    },
    {
      "cell_type": "code",
      "source": [
        "df = pd.read_csv('spam_ham_dataset.csv')"
      ],
      "metadata": {
        "id": "YE292dQULuyO"
      },
      "execution_count": null,
      "outputs": []
    },
    {
      "cell_type": "code",
      "source": [
        "df.shape"
      ],
      "metadata": {
        "colab": {
          "base_uri": "https://localhost:8080/"
        },
        "id": "8-tH2rlCL5vY",
        "outputId": "74bb7908-3519-4568-87c9-c7d756184691"
      },
      "execution_count": null,
      "outputs": [
        {
          "output_type": "execute_result",
          "data": {
            "text/plain": [
              "(5171, 4)"
            ]
          },
          "metadata": {},
          "execution_count": 7
        }
      ]
    },
    {
      "cell_type": "code",
      "source": [
        "df.head()"
      ],
      "metadata": {
        "colab": {
          "base_uri": "https://localhost:8080/",
          "height": 206
        },
        "id": "FMOofcn7L7ea",
        "outputId": "8db880a2-da74-4b63-bcec-10fc3503c4c0"
      },
      "execution_count": null,
      "outputs": [
        {
          "output_type": "execute_result",
          "data": {
            "text/plain": [
              "   Unnamed: 0 label                                               text  \\\n",
              "0         605   ham  Subject: enron methanol ; meter # : 988291\\r\\n...   \n",
              "1        2349   ham  Subject: hpl nom for january 9 , 2001\\r\\n( see...   \n",
              "2        3624   ham  Subject: neon retreat\\r\\nho ho ho , we ' re ar...   \n",
              "3        4685  spam  Subject: photoshop , windows , office . cheap ...   \n",
              "4        2030   ham  Subject: re : indian springs\\r\\nthis deal is t...   \n",
              "\n",
              "   label_num  \n",
              "0          0  \n",
              "1          0  \n",
              "2          0  \n",
              "3          1  \n",
              "4          0  "
            ],
            "text/html": [
              "\n",
              "  <div id=\"df-e77447e2-5fd7-4d4c-8261-0d34f5ee2fa1\">\n",
              "    <div class=\"colab-df-container\">\n",
              "      <div>\n",
              "<style scoped>\n",
              "    .dataframe tbody tr th:only-of-type {\n",
              "        vertical-align: middle;\n",
              "    }\n",
              "\n",
              "    .dataframe tbody tr th {\n",
              "        vertical-align: top;\n",
              "    }\n",
              "\n",
              "    .dataframe thead th {\n",
              "        text-align: right;\n",
              "    }\n",
              "</style>\n",
              "<table border=\"1\" class=\"dataframe\">\n",
              "  <thead>\n",
              "    <tr style=\"text-align: right;\">\n",
              "      <th></th>\n",
              "      <th>Unnamed: 0</th>\n",
              "      <th>label</th>\n",
              "      <th>text</th>\n",
              "      <th>label_num</th>\n",
              "    </tr>\n",
              "  </thead>\n",
              "  <tbody>\n",
              "    <tr>\n",
              "      <th>0</th>\n",
              "      <td>605</td>\n",
              "      <td>ham</td>\n",
              "      <td>Subject: enron methanol ; meter # : 988291\\r\\n...</td>\n",
              "      <td>0</td>\n",
              "    </tr>\n",
              "    <tr>\n",
              "      <th>1</th>\n",
              "      <td>2349</td>\n",
              "      <td>ham</td>\n",
              "      <td>Subject: hpl nom for january 9 , 2001\\r\\n( see...</td>\n",
              "      <td>0</td>\n",
              "    </tr>\n",
              "    <tr>\n",
              "      <th>2</th>\n",
              "      <td>3624</td>\n",
              "      <td>ham</td>\n",
              "      <td>Subject: neon retreat\\r\\nho ho ho , we ' re ar...</td>\n",
              "      <td>0</td>\n",
              "    </tr>\n",
              "    <tr>\n",
              "      <th>3</th>\n",
              "      <td>4685</td>\n",
              "      <td>spam</td>\n",
              "      <td>Subject: photoshop , windows , office . cheap ...</td>\n",
              "      <td>1</td>\n",
              "    </tr>\n",
              "    <tr>\n",
              "      <th>4</th>\n",
              "      <td>2030</td>\n",
              "      <td>ham</td>\n",
              "      <td>Subject: re : indian springs\\r\\nthis deal is t...</td>\n",
              "      <td>0</td>\n",
              "    </tr>\n",
              "  </tbody>\n",
              "</table>\n",
              "</div>\n",
              "      <button class=\"colab-df-convert\" onclick=\"convertToInteractive('df-e77447e2-5fd7-4d4c-8261-0d34f5ee2fa1')\"\n",
              "              title=\"Convert this dataframe to an interactive table.\"\n",
              "              style=\"display:none;\">\n",
              "        \n",
              "  <svg xmlns=\"http://www.w3.org/2000/svg\" height=\"24px\"viewBox=\"0 0 24 24\"\n",
              "       width=\"24px\">\n",
              "    <path d=\"M0 0h24v24H0V0z\" fill=\"none\"/>\n",
              "    <path d=\"M18.56 5.44l.94 2.06.94-2.06 2.06-.94-2.06-.94-.94-2.06-.94 2.06-2.06.94zm-11 1L8.5 8.5l.94-2.06 2.06-.94-2.06-.94L8.5 2.5l-.94 2.06-2.06.94zm10 10l.94 2.06.94-2.06 2.06-.94-2.06-.94-.94-2.06-.94 2.06-2.06.94z\"/><path d=\"M17.41 7.96l-1.37-1.37c-.4-.4-.92-.59-1.43-.59-.52 0-1.04.2-1.43.59L10.3 9.45l-7.72 7.72c-.78.78-.78 2.05 0 2.83L4 21.41c.39.39.9.59 1.41.59.51 0 1.02-.2 1.41-.59l7.78-7.78 2.81-2.81c.8-.78.8-2.07 0-2.86zM5.41 20L4 18.59l7.72-7.72 1.47 1.35L5.41 20z\"/>\n",
              "  </svg>\n",
              "      </button>\n",
              "      \n",
              "  <style>\n",
              "    .colab-df-container {\n",
              "      display:flex;\n",
              "      flex-wrap:wrap;\n",
              "      gap: 12px;\n",
              "    }\n",
              "\n",
              "    .colab-df-convert {\n",
              "      background-color: #E8F0FE;\n",
              "      border: none;\n",
              "      border-radius: 50%;\n",
              "      cursor: pointer;\n",
              "      display: none;\n",
              "      fill: #1967D2;\n",
              "      height: 32px;\n",
              "      padding: 0 0 0 0;\n",
              "      width: 32px;\n",
              "    }\n",
              "\n",
              "    .colab-df-convert:hover {\n",
              "      background-color: #E2EBFA;\n",
              "      box-shadow: 0px 1px 2px rgba(60, 64, 67, 0.3), 0px 1px 3px 1px rgba(60, 64, 67, 0.15);\n",
              "      fill: #174EA6;\n",
              "    }\n",
              "\n",
              "    [theme=dark] .colab-df-convert {\n",
              "      background-color: #3B4455;\n",
              "      fill: #D2E3FC;\n",
              "    }\n",
              "\n",
              "    [theme=dark] .colab-df-convert:hover {\n",
              "      background-color: #434B5C;\n",
              "      box-shadow: 0px 1px 3px 1px rgba(0, 0, 0, 0.15);\n",
              "      filter: drop-shadow(0px 1px 2px rgba(0, 0, 0, 0.3));\n",
              "      fill: #FFFFFF;\n",
              "    }\n",
              "  </style>\n",
              "\n",
              "      <script>\n",
              "        const buttonEl =\n",
              "          document.querySelector('#df-e77447e2-5fd7-4d4c-8261-0d34f5ee2fa1 button.colab-df-convert');\n",
              "        buttonEl.style.display =\n",
              "          google.colab.kernel.accessAllowed ? 'block' : 'none';\n",
              "\n",
              "        async function convertToInteractive(key) {\n",
              "          const element = document.querySelector('#df-e77447e2-5fd7-4d4c-8261-0d34f5ee2fa1');\n",
              "          const dataTable =\n",
              "            await google.colab.kernel.invokeFunction('convertToInteractive',\n",
              "                                                     [key], {});\n",
              "          if (!dataTable) return;\n",
              "\n",
              "          const docLinkHtml = 'Like what you see? Visit the ' +\n",
              "            '<a target=\"_blank\" href=https://colab.research.google.com/notebooks/data_table.ipynb>data table notebook</a>'\n",
              "            + ' to learn more about interactive tables.';\n",
              "          element.innerHTML = '';\n",
              "          dataTable['output_type'] = 'display_data';\n",
              "          await google.colab.output.renderOutput(dataTable, element);\n",
              "          const docLink = document.createElement('div');\n",
              "          docLink.innerHTML = docLinkHtml;\n",
              "          element.appendChild(docLink);\n",
              "        }\n",
              "      </script>\n",
              "    </div>\n",
              "  </div>\n",
              "  "
            ]
          },
          "metadata": {},
          "execution_count": 8
        }
      ]
    },
    {
      "cell_type": "code",
      "source": [
        "# dropping columns Unnamed: 0 and label_num because these columns wouldn't be useful for us(for identifying spam or ham)\n",
        "email_df = df.drop(['Unnamed: 0', \"label_num\"], axis = 1)"
      ],
      "metadata": {
        "id": "Br4lj28CR-rk"
      },
      "execution_count": null,
      "outputs": []
    },
    {
      "cell_type": "markdown",
      "source": [
        "Separating subject and body"
      ],
      "metadata": {
        "id": "o9fEl-AeRq6y"
      }
    },
    {
      "cell_type": "code",
      "source": [
        "def get_email_subject(email):\n",
        "    subject = email[0:email.find('\\r\\n')]\n",
        "    subject = subject. replace('Subject: ', '')\n",
        "    return subject\n",
        "\n",
        "def get_email_body(email):\n",
        "    body = email[email.find('\\r\\n')+2:]\n",
        "    return body"
      ],
      "metadata": {
        "id": "8aNrPvlMQaxS"
      },
      "execution_count": null,
      "outputs": []
    },
    {
      "cell_type": "code",
      "source": [
        "# get the subject and body of email\n",
        "email_df[\"subject\"] = email_df[\"text\"].apply(lambda x: get_email_subject(x))\n",
        "email_df[\"body\"] = email_df[\"text\"].apply(lambda x: get_email_body(x))"
      ],
      "metadata": {
        "id": "xZklvW6DSf2d"
      },
      "execution_count": null,
      "outputs": []
    },
    {
      "cell_type": "code",
      "source": [
        "email_df"
      ],
      "metadata": {
        "colab": {
          "base_uri": "https://localhost:8080/",
          "height": 424
        },
        "id": "fpEf9Ud_SrMU",
        "outputId": "650494e0-592f-4b33-e52e-833201626a33"
      },
      "execution_count": null,
      "outputs": [
        {
          "output_type": "execute_result",
          "data": {
            "text/plain": [
              "     label                                               text  \\\n",
              "0      ham  Subject: enron methanol ; meter # : 988291\\r\\n...   \n",
              "1      ham  Subject: hpl nom for january 9 , 2001\\r\\n( see...   \n",
              "2      ham  Subject: neon retreat\\r\\nho ho ho , we ' re ar...   \n",
              "3     spam  Subject: photoshop , windows , office . cheap ...   \n",
              "4      ham  Subject: re : indian springs\\r\\nthis deal is t...   \n",
              "...    ...                                                ...   \n",
              "5166   ham  Subject: put the 10 on the ft\\r\\nthe transport...   \n",
              "5167   ham  Subject: 3 / 4 / 2000 and following noms\\r\\nhp...   \n",
              "5168   ham  Subject: calpine daily gas nomination\\r\\n>\\r\\n...   \n",
              "5169   ham  Subject: industrial worksheets for august 2000...   \n",
              "5170  spam  Subject: important online banking alert\\r\\ndea...   \n",
              "\n",
              "                                                subject  \\\n",
              "0                     enron methanol ; meter # : 988291   \n",
              "1                          hpl nom for january 9 , 2001   \n",
              "2                                          neon retreat   \n",
              "3     photoshop , windows , office . cheap . main tr...   \n",
              "4                                   re : indian springs   \n",
              "...                                                 ...   \n",
              "5166                               put the 10 on the ft   \n",
              "5167                    3 / 4 / 2000 and following noms   \n",
              "5168                       calpine daily gas nomination   \n",
              "5169     industrial worksheets for august 2000 activity   \n",
              "5170                     important online banking alert   \n",
              "\n",
              "                                                   body  \n",
              "0     this is a follow up to the note i gave you on ...  \n",
              "1     ( see attached file : hplnol 09 . xls )\\r\\n- h...  \n",
              "2     ho ho ho , we ' re around to that most wonderf...  \n",
              "3     abasements darer prudently fortuitous undergon...  \n",
              "4     this deal is to book the teco pvr revenue . it...  \n",
              "...                                                 ...  \n",
              "5166  the transport volumes decreased from 25000 to ...  \n",
              "5167  hpl can ' t take the extra 15 mmcf / d over th...  \n",
              "5168  >\\r\\n>\\r\\njulie , as i mention earlier we hope...  \n",
              "5169  attached are the worksheets for august 2000 ac...  \n",
              "5170  dear valued citizensr bank member ,\\r\\ndue to ...  \n",
              "\n",
              "[5171 rows x 4 columns]"
            ],
            "text/html": [
              "\n",
              "  <div id=\"df-b537a9bd-eea6-4a2d-aa68-dcf90fa6eab0\">\n",
              "    <div class=\"colab-df-container\">\n",
              "      <div>\n",
              "<style scoped>\n",
              "    .dataframe tbody tr th:only-of-type {\n",
              "        vertical-align: middle;\n",
              "    }\n",
              "\n",
              "    .dataframe tbody tr th {\n",
              "        vertical-align: top;\n",
              "    }\n",
              "\n",
              "    .dataframe thead th {\n",
              "        text-align: right;\n",
              "    }\n",
              "</style>\n",
              "<table border=\"1\" class=\"dataframe\">\n",
              "  <thead>\n",
              "    <tr style=\"text-align: right;\">\n",
              "      <th></th>\n",
              "      <th>label</th>\n",
              "      <th>text</th>\n",
              "      <th>subject</th>\n",
              "      <th>body</th>\n",
              "    </tr>\n",
              "  </thead>\n",
              "  <tbody>\n",
              "    <tr>\n",
              "      <th>0</th>\n",
              "      <td>ham</td>\n",
              "      <td>Subject: enron methanol ; meter # : 988291\\r\\n...</td>\n",
              "      <td>enron methanol ; meter # : 988291</td>\n",
              "      <td>this is a follow up to the note i gave you on ...</td>\n",
              "    </tr>\n",
              "    <tr>\n",
              "      <th>1</th>\n",
              "      <td>ham</td>\n",
              "      <td>Subject: hpl nom for january 9 , 2001\\r\\n( see...</td>\n",
              "      <td>hpl nom for january 9 , 2001</td>\n",
              "      <td>( see attached file : hplnol 09 . xls )\\r\\n- h...</td>\n",
              "    </tr>\n",
              "    <tr>\n",
              "      <th>2</th>\n",
              "      <td>ham</td>\n",
              "      <td>Subject: neon retreat\\r\\nho ho ho , we ' re ar...</td>\n",
              "      <td>neon retreat</td>\n",
              "      <td>ho ho ho , we ' re around to that most wonderf...</td>\n",
              "    </tr>\n",
              "    <tr>\n",
              "      <th>3</th>\n",
              "      <td>spam</td>\n",
              "      <td>Subject: photoshop , windows , office . cheap ...</td>\n",
              "      <td>photoshop , windows , office . cheap . main tr...</td>\n",
              "      <td>abasements darer prudently fortuitous undergon...</td>\n",
              "    </tr>\n",
              "    <tr>\n",
              "      <th>4</th>\n",
              "      <td>ham</td>\n",
              "      <td>Subject: re : indian springs\\r\\nthis deal is t...</td>\n",
              "      <td>re : indian springs</td>\n",
              "      <td>this deal is to book the teco pvr revenue . it...</td>\n",
              "    </tr>\n",
              "    <tr>\n",
              "      <th>...</th>\n",
              "      <td>...</td>\n",
              "      <td>...</td>\n",
              "      <td>...</td>\n",
              "      <td>...</td>\n",
              "    </tr>\n",
              "    <tr>\n",
              "      <th>5166</th>\n",
              "      <td>ham</td>\n",
              "      <td>Subject: put the 10 on the ft\\r\\nthe transport...</td>\n",
              "      <td>put the 10 on the ft</td>\n",
              "      <td>the transport volumes decreased from 25000 to ...</td>\n",
              "    </tr>\n",
              "    <tr>\n",
              "      <th>5167</th>\n",
              "      <td>ham</td>\n",
              "      <td>Subject: 3 / 4 / 2000 and following noms\\r\\nhp...</td>\n",
              "      <td>3 / 4 / 2000 and following noms</td>\n",
              "      <td>hpl can ' t take the extra 15 mmcf / d over th...</td>\n",
              "    </tr>\n",
              "    <tr>\n",
              "      <th>5168</th>\n",
              "      <td>ham</td>\n",
              "      <td>Subject: calpine daily gas nomination\\r\\n&gt;\\r\\n...</td>\n",
              "      <td>calpine daily gas nomination</td>\n",
              "      <td>&gt;\\r\\n&gt;\\r\\njulie , as i mention earlier we hope...</td>\n",
              "    </tr>\n",
              "    <tr>\n",
              "      <th>5169</th>\n",
              "      <td>ham</td>\n",
              "      <td>Subject: industrial worksheets for august 2000...</td>\n",
              "      <td>industrial worksheets for august 2000 activity</td>\n",
              "      <td>attached are the worksheets for august 2000 ac...</td>\n",
              "    </tr>\n",
              "    <tr>\n",
              "      <th>5170</th>\n",
              "      <td>spam</td>\n",
              "      <td>Subject: important online banking alert\\r\\ndea...</td>\n",
              "      <td>important online banking alert</td>\n",
              "      <td>dear valued citizensr bank member ,\\r\\ndue to ...</td>\n",
              "    </tr>\n",
              "  </tbody>\n",
              "</table>\n",
              "<p>5171 rows × 4 columns</p>\n",
              "</div>\n",
              "      <button class=\"colab-df-convert\" onclick=\"convertToInteractive('df-b537a9bd-eea6-4a2d-aa68-dcf90fa6eab0')\"\n",
              "              title=\"Convert this dataframe to an interactive table.\"\n",
              "              style=\"display:none;\">\n",
              "        \n",
              "  <svg xmlns=\"http://www.w3.org/2000/svg\" height=\"24px\"viewBox=\"0 0 24 24\"\n",
              "       width=\"24px\">\n",
              "    <path d=\"M0 0h24v24H0V0z\" fill=\"none\"/>\n",
              "    <path d=\"M18.56 5.44l.94 2.06.94-2.06 2.06-.94-2.06-.94-.94-2.06-.94 2.06-2.06.94zm-11 1L8.5 8.5l.94-2.06 2.06-.94-2.06-.94L8.5 2.5l-.94 2.06-2.06.94zm10 10l.94 2.06.94-2.06 2.06-.94-2.06-.94-.94-2.06-.94 2.06-2.06.94z\"/><path d=\"M17.41 7.96l-1.37-1.37c-.4-.4-.92-.59-1.43-.59-.52 0-1.04.2-1.43.59L10.3 9.45l-7.72 7.72c-.78.78-.78 2.05 0 2.83L4 21.41c.39.39.9.59 1.41.59.51 0 1.02-.2 1.41-.59l7.78-7.78 2.81-2.81c.8-.78.8-2.07 0-2.86zM5.41 20L4 18.59l7.72-7.72 1.47 1.35L5.41 20z\"/>\n",
              "  </svg>\n",
              "      </button>\n",
              "      \n",
              "  <style>\n",
              "    .colab-df-container {\n",
              "      display:flex;\n",
              "      flex-wrap:wrap;\n",
              "      gap: 12px;\n",
              "    }\n",
              "\n",
              "    .colab-df-convert {\n",
              "      background-color: #E8F0FE;\n",
              "      border: none;\n",
              "      border-radius: 50%;\n",
              "      cursor: pointer;\n",
              "      display: none;\n",
              "      fill: #1967D2;\n",
              "      height: 32px;\n",
              "      padding: 0 0 0 0;\n",
              "      width: 32px;\n",
              "    }\n",
              "\n",
              "    .colab-df-convert:hover {\n",
              "      background-color: #E2EBFA;\n",
              "      box-shadow: 0px 1px 2px rgba(60, 64, 67, 0.3), 0px 1px 3px 1px rgba(60, 64, 67, 0.15);\n",
              "      fill: #174EA6;\n",
              "    }\n",
              "\n",
              "    [theme=dark] .colab-df-convert {\n",
              "      background-color: #3B4455;\n",
              "      fill: #D2E3FC;\n",
              "    }\n",
              "\n",
              "    [theme=dark] .colab-df-convert:hover {\n",
              "      background-color: #434B5C;\n",
              "      box-shadow: 0px 1px 3px 1px rgba(0, 0, 0, 0.15);\n",
              "      filter: drop-shadow(0px 1px 2px rgba(0, 0, 0, 0.3));\n",
              "      fill: #FFFFFF;\n",
              "    }\n",
              "  </style>\n",
              "\n",
              "      <script>\n",
              "        const buttonEl =\n",
              "          document.querySelector('#df-b537a9bd-eea6-4a2d-aa68-dcf90fa6eab0 button.colab-df-convert');\n",
              "        buttonEl.style.display =\n",
              "          google.colab.kernel.accessAllowed ? 'block' : 'none';\n",
              "\n",
              "        async function convertToInteractive(key) {\n",
              "          const element = document.querySelector('#df-b537a9bd-eea6-4a2d-aa68-dcf90fa6eab0');\n",
              "          const dataTable =\n",
              "            await google.colab.kernel.invokeFunction('convertToInteractive',\n",
              "                                                     [key], {});\n",
              "          if (!dataTable) return;\n",
              "\n",
              "          const docLinkHtml = 'Like what you see? Visit the ' +\n",
              "            '<a target=\"_blank\" href=https://colab.research.google.com/notebooks/data_table.ipynb>data table notebook</a>'\n",
              "            + ' to learn more about interactive tables.';\n",
              "          element.innerHTML = '';\n",
              "          dataTable['output_type'] = 'display_data';\n",
              "          await google.colab.output.renderOutput(dataTable, element);\n",
              "          const docLink = document.createElement('div');\n",
              "          docLink.innerHTML = docLinkHtml;\n",
              "          element.appendChild(docLink);\n",
              "        }\n",
              "      </script>\n",
              "    </div>\n",
              "  </div>\n",
              "  "
            ]
          },
          "metadata": {},
          "execution_count": 12
        }
      ]
    },
    {
      "cell_type": "code",
      "source": [
        "# Removing text after separating subject and body\n",
        "email_df = email_df.drop([\"text\"], axis = 1)"
      ],
      "metadata": {
        "id": "irmU1gptSvvE"
      },
      "execution_count": null,
      "outputs": []
    },
    {
      "cell_type": "code",
      "source": [
        "# expand default pandas display options to make emails more clearly visible when printed\n",
        "pd.set_option('display.max_colwidth', 100)"
      ],
      "metadata": {
        "id": "awVT1ue7S7D4"
      },
      "execution_count": null,
      "outputs": []
    },
    {
      "cell_type": "code",
      "source": [
        "email_df.head()"
      ],
      "metadata": {
        "colab": {
          "base_uri": "https://localhost:8080/",
          "height": 206
        },
        "id": "plRTP3cWTBJT",
        "outputId": "b5a82b54-d04c-4ddd-8976-dedc90266756"
      },
      "execution_count": null,
      "outputs": [
        {
          "output_type": "execute_result",
          "data": {
            "text/plain": [
              "  label                                               subject  \\\n",
              "0   ham                     enron methanol ; meter # : 988291   \n",
              "1   ham                          hpl nom for january 9 , 2001   \n",
              "2   ham                                          neon retreat   \n",
              "3  spam  photoshop , windows , office . cheap . main trending   \n",
              "4   ham                                   re : indian springs   \n",
              "\n",
              "                                                                                                  body  \n",
              "0  this is a follow up to the note i gave you on monday , 4 / 3 / 00 { preliminary\\r\\nflow data pro...  \n",
              "1                                         ( see attached file : hplnol 09 . xls )\\r\\n- hplnol 09 . xls  \n",
              "2  ho ho ho , we ' re around to that most wonderful time of the year - - - neon leaders retreat tim...  \n",
              "3  abasements darer prudently fortuitous undergone\\r\\nlighthearted charm orinoco taster\\r\\nrailroad...  \n",
              "4  this deal is to book the teco pvr revenue . it is my understanding that teco\\r\\njust sends us a ...  "
            ],
            "text/html": [
              "\n",
              "  <div id=\"df-a6049531-556b-494a-b2de-e1e075a5f701\">\n",
              "    <div class=\"colab-df-container\">\n",
              "      <div>\n",
              "<style scoped>\n",
              "    .dataframe tbody tr th:only-of-type {\n",
              "        vertical-align: middle;\n",
              "    }\n",
              "\n",
              "    .dataframe tbody tr th {\n",
              "        vertical-align: top;\n",
              "    }\n",
              "\n",
              "    .dataframe thead th {\n",
              "        text-align: right;\n",
              "    }\n",
              "</style>\n",
              "<table border=\"1\" class=\"dataframe\">\n",
              "  <thead>\n",
              "    <tr style=\"text-align: right;\">\n",
              "      <th></th>\n",
              "      <th>label</th>\n",
              "      <th>subject</th>\n",
              "      <th>body</th>\n",
              "    </tr>\n",
              "  </thead>\n",
              "  <tbody>\n",
              "    <tr>\n",
              "      <th>0</th>\n",
              "      <td>ham</td>\n",
              "      <td>enron methanol ; meter # : 988291</td>\n",
              "      <td>this is a follow up to the note i gave you on monday , 4 / 3 / 00 { preliminary\\r\\nflow data pro...</td>\n",
              "    </tr>\n",
              "    <tr>\n",
              "      <th>1</th>\n",
              "      <td>ham</td>\n",
              "      <td>hpl nom for january 9 , 2001</td>\n",
              "      <td>( see attached file : hplnol 09 . xls )\\r\\n- hplnol 09 . xls</td>\n",
              "    </tr>\n",
              "    <tr>\n",
              "      <th>2</th>\n",
              "      <td>ham</td>\n",
              "      <td>neon retreat</td>\n",
              "      <td>ho ho ho , we ' re around to that most wonderful time of the year - - - neon leaders retreat tim...</td>\n",
              "    </tr>\n",
              "    <tr>\n",
              "      <th>3</th>\n",
              "      <td>spam</td>\n",
              "      <td>photoshop , windows , office . cheap . main trending</td>\n",
              "      <td>abasements darer prudently fortuitous undergone\\r\\nlighthearted charm orinoco taster\\r\\nrailroad...</td>\n",
              "    </tr>\n",
              "    <tr>\n",
              "      <th>4</th>\n",
              "      <td>ham</td>\n",
              "      <td>re : indian springs</td>\n",
              "      <td>this deal is to book the teco pvr revenue . it is my understanding that teco\\r\\njust sends us a ...</td>\n",
              "    </tr>\n",
              "  </tbody>\n",
              "</table>\n",
              "</div>\n",
              "      <button class=\"colab-df-convert\" onclick=\"convertToInteractive('df-a6049531-556b-494a-b2de-e1e075a5f701')\"\n",
              "              title=\"Convert this dataframe to an interactive table.\"\n",
              "              style=\"display:none;\">\n",
              "        \n",
              "  <svg xmlns=\"http://www.w3.org/2000/svg\" height=\"24px\"viewBox=\"0 0 24 24\"\n",
              "       width=\"24px\">\n",
              "    <path d=\"M0 0h24v24H0V0z\" fill=\"none\"/>\n",
              "    <path d=\"M18.56 5.44l.94 2.06.94-2.06 2.06-.94-2.06-.94-.94-2.06-.94 2.06-2.06.94zm-11 1L8.5 8.5l.94-2.06 2.06-.94-2.06-.94L8.5 2.5l-.94 2.06-2.06.94zm10 10l.94 2.06.94-2.06 2.06-.94-2.06-.94-.94-2.06-.94 2.06-2.06.94z\"/><path d=\"M17.41 7.96l-1.37-1.37c-.4-.4-.92-.59-1.43-.59-.52 0-1.04.2-1.43.59L10.3 9.45l-7.72 7.72c-.78.78-.78 2.05 0 2.83L4 21.41c.39.39.9.59 1.41.59.51 0 1.02-.2 1.41-.59l7.78-7.78 2.81-2.81c.8-.78.8-2.07 0-2.86zM5.41 20L4 18.59l7.72-7.72 1.47 1.35L5.41 20z\"/>\n",
              "  </svg>\n",
              "      </button>\n",
              "      \n",
              "  <style>\n",
              "    .colab-df-container {\n",
              "      display:flex;\n",
              "      flex-wrap:wrap;\n",
              "      gap: 12px;\n",
              "    }\n",
              "\n",
              "    .colab-df-convert {\n",
              "      background-color: #E8F0FE;\n",
              "      border: none;\n",
              "      border-radius: 50%;\n",
              "      cursor: pointer;\n",
              "      display: none;\n",
              "      fill: #1967D2;\n",
              "      height: 32px;\n",
              "      padding: 0 0 0 0;\n",
              "      width: 32px;\n",
              "    }\n",
              "\n",
              "    .colab-df-convert:hover {\n",
              "      background-color: #E2EBFA;\n",
              "      box-shadow: 0px 1px 2px rgba(60, 64, 67, 0.3), 0px 1px 3px 1px rgba(60, 64, 67, 0.15);\n",
              "      fill: #174EA6;\n",
              "    }\n",
              "\n",
              "    [theme=dark] .colab-df-convert {\n",
              "      background-color: #3B4455;\n",
              "      fill: #D2E3FC;\n",
              "    }\n",
              "\n",
              "    [theme=dark] .colab-df-convert:hover {\n",
              "      background-color: #434B5C;\n",
              "      box-shadow: 0px 1px 3px 1px rgba(0, 0, 0, 0.15);\n",
              "      filter: drop-shadow(0px 1px 2px rgba(0, 0, 0, 0.3));\n",
              "      fill: #FFFFFF;\n",
              "    }\n",
              "  </style>\n",
              "\n",
              "      <script>\n",
              "        const buttonEl =\n",
              "          document.querySelector('#df-a6049531-556b-494a-b2de-e1e075a5f701 button.colab-df-convert');\n",
              "        buttonEl.style.display =\n",
              "          google.colab.kernel.accessAllowed ? 'block' : 'none';\n",
              "\n",
              "        async function convertToInteractive(key) {\n",
              "          const element = document.querySelector('#df-a6049531-556b-494a-b2de-e1e075a5f701');\n",
              "          const dataTable =\n",
              "            await google.colab.kernel.invokeFunction('convertToInteractive',\n",
              "                                                     [key], {});\n",
              "          if (!dataTable) return;\n",
              "\n",
              "          const docLinkHtml = 'Like what you see? Visit the ' +\n",
              "            '<a target=\"_blank\" href=https://colab.research.google.com/notebooks/data_table.ipynb>data table notebook</a>'\n",
              "            + ' to learn more about interactive tables.';\n",
              "          element.innerHTML = '';\n",
              "          dataTable['output_type'] = 'display_data';\n",
              "          await google.colab.output.renderOutput(dataTable, element);\n",
              "          const docLink = document.createElement('div');\n",
              "          docLink.innerHTML = docLinkHtml;\n",
              "          element.appendChild(docLink);\n",
              "        }\n",
              "      </script>\n",
              "    </div>\n",
              "  </div>\n",
              "  "
            ]
          },
          "metadata": {},
          "execution_count": 15
        }
      ]
    },
    {
      "cell_type": "code",
      "source": [
        "email_df.shape"
      ],
      "metadata": {
        "colab": {
          "base_uri": "https://localhost:8080/"
        },
        "id": "54AfhPTEm0EP",
        "outputId": "e52b6c5b-0556-4847-8a50-33fb2f61e127"
      },
      "execution_count": null,
      "outputs": [
        {
          "output_type": "execute_result",
          "data": {
            "text/plain": [
              "(5171, 3)"
            ]
          },
          "metadata": {},
          "execution_count": 16
        }
      ]
    },
    {
      "cell_type": "markdown",
      "source": [
        "Text Pre-processing "
      ],
      "metadata": {
        "id": "xQtx5e1ZTUka"
      }
    },
    {
      "cell_type": "code",
      "source": [
        "import re\n",
        "\n",
        "import nltk\n",
        "nltk.download('punkt')\n",
        "\n",
        "from nltk.tokenize import word_tokenize\n",
        "\n",
        "nltk.download('stopwords')\n",
        "from nltk.corpus import stopwords\n",
        "stop_words = set(stopwords.words(\"english\"))\n",
        "\n",
        "#stop_words.extend(['crypto','even','early'])\n",
        "\n",
        "import nltk\n",
        "nltk.download('wordnet')\n",
        "nltk.download('omw-1.4')\n",
        "from nltk.stem import WordNetLemmatizer\n",
        "\n",
        "lemmatizer = WordNetLemmatizer()"
      ],
      "metadata": {
        "colab": {
          "base_uri": "https://localhost:8080/"
        },
        "id": "ylN9sOiiTDlw",
        "outputId": "bd2cd420-9a16-4168-b89b-71c87e51a837"
      },
      "execution_count": null,
      "outputs": [
        {
          "output_type": "stream",
          "name": "stderr",
          "text": [
            "[nltk_data] Downloading package punkt to /root/nltk_data...\n",
            "[nltk_data]   Unzipping tokenizers/punkt.zip.\n",
            "[nltk_data] Downloading package stopwords to /root/nltk_data...\n",
            "[nltk_data]   Unzipping corpora/stopwords.zip.\n",
            "[nltk_data] Downloading package wordnet to /root/nltk_data...\n",
            "[nltk_data] Downloading package omw-1.4 to /root/nltk_data...\n"
          ]
        }
      ]
    },
    {
      "cell_type": "code",
      "source": [
        "def text_cleaner(review):\n",
        "  # removing the not required texts\n",
        "  cleaned_review = re.sub(re.compile('<.*?>'), '', review) #removing HTML tags\n",
        "  cleaned_review = re.sub('[^A-Za-z]+', ' ', cleaned_review) #taking only words\n",
        "  cleaned_review = re.sub(r'[\\r\\n]',\"\", cleaned_review) \n",
        "  cleaned_review = cleaned_review.lower()\n",
        "\n",
        "  tokens = nltk.word_tokenize(cleaned_review)\n",
        "\n",
        "  filtered_review = [word for word in tokens if word not in stop_words] # removing stop words\n",
        "\n",
        "  lemm_review = [lemmatizer.lemmatize(word) for word in filtered_review]\n",
        "  # review = \" \".join(lemm_review)\n",
        "  return(lemm_review)"
      ],
      "metadata": {
        "id": "VrejKS47Twp7"
      },
      "execution_count": null,
      "outputs": []
    },
    {
      "cell_type": "code",
      "source": [
        "clean_email = pd.DataFrame(email_df,columns=['label'])"
      ],
      "metadata": {
        "id": "-1yw-mdzVKTi"
      },
      "execution_count": null,
      "outputs": []
    },
    {
      "cell_type": "code",
      "source": [
        "cleanText_Sub=[]\n",
        "\n",
        "for t in email_df['subject']:\n",
        " cleanText_Sub.append(text_cleaner(t))\n",
        "\n",
        "clean_email[\"clean_Sub\"] = cleanText_Sub\n",
        "clean_email.head()"
      ],
      "metadata": {
        "colab": {
          "base_uri": "https://localhost:8080/",
          "height": 206
        },
        "id": "w-xeHxfQUYtx",
        "outputId": "eeafa27b-6090-48e6-9587-c8e20aa0d95b"
      },
      "execution_count": null,
      "outputs": [
        {
          "output_type": "execute_result",
          "data": {
            "text/plain": [
              "  label                                           clean_Sub\n",
              "0   ham                            [enron, methanol, meter]\n",
              "1   ham                                 [hpl, nom, january]\n",
              "2   ham                                     [neon, retreat]\n",
              "3  spam  [photoshop, window, office, cheap, main, trending]\n",
              "4   ham                                    [indian, spring]"
            ],
            "text/html": [
              "\n",
              "  <div id=\"df-bd9dcc9c-8edd-494b-8006-41b1eb477b65\">\n",
              "    <div class=\"colab-df-container\">\n",
              "      <div>\n",
              "<style scoped>\n",
              "    .dataframe tbody tr th:only-of-type {\n",
              "        vertical-align: middle;\n",
              "    }\n",
              "\n",
              "    .dataframe tbody tr th {\n",
              "        vertical-align: top;\n",
              "    }\n",
              "\n",
              "    .dataframe thead th {\n",
              "        text-align: right;\n",
              "    }\n",
              "</style>\n",
              "<table border=\"1\" class=\"dataframe\">\n",
              "  <thead>\n",
              "    <tr style=\"text-align: right;\">\n",
              "      <th></th>\n",
              "      <th>label</th>\n",
              "      <th>clean_Sub</th>\n",
              "    </tr>\n",
              "  </thead>\n",
              "  <tbody>\n",
              "    <tr>\n",
              "      <th>0</th>\n",
              "      <td>ham</td>\n",
              "      <td>[enron, methanol, meter]</td>\n",
              "    </tr>\n",
              "    <tr>\n",
              "      <th>1</th>\n",
              "      <td>ham</td>\n",
              "      <td>[hpl, nom, january]</td>\n",
              "    </tr>\n",
              "    <tr>\n",
              "      <th>2</th>\n",
              "      <td>ham</td>\n",
              "      <td>[neon, retreat]</td>\n",
              "    </tr>\n",
              "    <tr>\n",
              "      <th>3</th>\n",
              "      <td>spam</td>\n",
              "      <td>[photoshop, window, office, cheap, main, trending]</td>\n",
              "    </tr>\n",
              "    <tr>\n",
              "      <th>4</th>\n",
              "      <td>ham</td>\n",
              "      <td>[indian, spring]</td>\n",
              "    </tr>\n",
              "  </tbody>\n",
              "</table>\n",
              "</div>\n",
              "      <button class=\"colab-df-convert\" onclick=\"convertToInteractive('df-bd9dcc9c-8edd-494b-8006-41b1eb477b65')\"\n",
              "              title=\"Convert this dataframe to an interactive table.\"\n",
              "              style=\"display:none;\">\n",
              "        \n",
              "  <svg xmlns=\"http://www.w3.org/2000/svg\" height=\"24px\"viewBox=\"0 0 24 24\"\n",
              "       width=\"24px\">\n",
              "    <path d=\"M0 0h24v24H0V0z\" fill=\"none\"/>\n",
              "    <path d=\"M18.56 5.44l.94 2.06.94-2.06 2.06-.94-2.06-.94-.94-2.06-.94 2.06-2.06.94zm-11 1L8.5 8.5l.94-2.06 2.06-.94-2.06-.94L8.5 2.5l-.94 2.06-2.06.94zm10 10l.94 2.06.94-2.06 2.06-.94-2.06-.94-.94-2.06-.94 2.06-2.06.94z\"/><path d=\"M17.41 7.96l-1.37-1.37c-.4-.4-.92-.59-1.43-.59-.52 0-1.04.2-1.43.59L10.3 9.45l-7.72 7.72c-.78.78-.78 2.05 0 2.83L4 21.41c.39.39.9.59 1.41.59.51 0 1.02-.2 1.41-.59l7.78-7.78 2.81-2.81c.8-.78.8-2.07 0-2.86zM5.41 20L4 18.59l7.72-7.72 1.47 1.35L5.41 20z\"/>\n",
              "  </svg>\n",
              "      </button>\n",
              "      \n",
              "  <style>\n",
              "    .colab-df-container {\n",
              "      display:flex;\n",
              "      flex-wrap:wrap;\n",
              "      gap: 12px;\n",
              "    }\n",
              "\n",
              "    .colab-df-convert {\n",
              "      background-color: #E8F0FE;\n",
              "      border: none;\n",
              "      border-radius: 50%;\n",
              "      cursor: pointer;\n",
              "      display: none;\n",
              "      fill: #1967D2;\n",
              "      height: 32px;\n",
              "      padding: 0 0 0 0;\n",
              "      width: 32px;\n",
              "    }\n",
              "\n",
              "    .colab-df-convert:hover {\n",
              "      background-color: #E2EBFA;\n",
              "      box-shadow: 0px 1px 2px rgba(60, 64, 67, 0.3), 0px 1px 3px 1px rgba(60, 64, 67, 0.15);\n",
              "      fill: #174EA6;\n",
              "    }\n",
              "\n",
              "    [theme=dark] .colab-df-convert {\n",
              "      background-color: #3B4455;\n",
              "      fill: #D2E3FC;\n",
              "    }\n",
              "\n",
              "    [theme=dark] .colab-df-convert:hover {\n",
              "      background-color: #434B5C;\n",
              "      box-shadow: 0px 1px 3px 1px rgba(0, 0, 0, 0.15);\n",
              "      filter: drop-shadow(0px 1px 2px rgba(0, 0, 0, 0.3));\n",
              "      fill: #FFFFFF;\n",
              "    }\n",
              "  </style>\n",
              "\n",
              "      <script>\n",
              "        const buttonEl =\n",
              "          document.querySelector('#df-bd9dcc9c-8edd-494b-8006-41b1eb477b65 button.colab-df-convert');\n",
              "        buttonEl.style.display =\n",
              "          google.colab.kernel.accessAllowed ? 'block' : 'none';\n",
              "\n",
              "        async function convertToInteractive(key) {\n",
              "          const element = document.querySelector('#df-bd9dcc9c-8edd-494b-8006-41b1eb477b65');\n",
              "          const dataTable =\n",
              "            await google.colab.kernel.invokeFunction('convertToInteractive',\n",
              "                                                     [key], {});\n",
              "          if (!dataTable) return;\n",
              "\n",
              "          const docLinkHtml = 'Like what you see? Visit the ' +\n",
              "            '<a target=\"_blank\" href=https://colab.research.google.com/notebooks/data_table.ipynb>data table notebook</a>'\n",
              "            + ' to learn more about interactive tables.';\n",
              "          element.innerHTML = '';\n",
              "          dataTable['output_type'] = 'display_data';\n",
              "          await google.colab.output.renderOutput(dataTable, element);\n",
              "          const docLink = document.createElement('div');\n",
              "          docLink.innerHTML = docLinkHtml;\n",
              "          element.appendChild(docLink);\n",
              "        }\n",
              "      </script>\n",
              "    </div>\n",
              "  </div>\n",
              "  "
            ]
          },
          "metadata": {},
          "execution_count": 20
        }
      ]
    },
    {
      "cell_type": "code",
      "source": [
        "cleanText_Body=[]\n",
        "\n",
        "for t in email_df['body']:\n",
        " cleanText_Body.append(text_cleaner(t))\n",
        "\n",
        "clean_email[\"clean_Body\"] = cleanText_Body\n",
        "clean_email.head()"
      ],
      "metadata": {
        "colab": {
          "base_uri": "https://localhost:8080/",
          "height": 206
        },
        "id": "Zq2gisdSUwTY",
        "outputId": "07fbce49-f92f-4946-8511-f25931e62232"
      },
      "execution_count": null,
      "outputs": [
        {
          "output_type": "execute_result",
          "data": {
            "text/plain": [
              "  label                                           clean_Sub  \\\n",
              "0   ham                            [enron, methanol, meter]   \n",
              "1   ham                                 [hpl, nom, january]   \n",
              "2   ham                                     [neon, retreat]   \n",
              "3  spam  [photoshop, window, office, cheap, main, trending]   \n",
              "4   ham                                    [indian, spring]   \n",
              "\n",
              "                                                                                            clean_Body  \n",
              "0  [follow, note, gave, monday, preliminary, flow, data, provided, daren, please, override, pop, da...  \n",
              "1                                                        [see, attached, file, hplnol, xl, hplnol, xl]  \n",
              "2  [ho, ho, ho, around, wonderful, time, year, neon, leader, retreat, time, know, time, year, extre...  \n",
              "3  [abasement, darer, prudently, fortuitous, undergone, lighthearted, charm, orinoco, taster, railr...  \n",
              "4  [deal, book, teco, pvr, revenue, understanding, teco, sends, u, check, received, answer, whether...  "
            ],
            "text/html": [
              "\n",
              "  <div id=\"df-a2365931-e632-4708-9ef2-33a8fe2c873b\">\n",
              "    <div class=\"colab-df-container\">\n",
              "      <div>\n",
              "<style scoped>\n",
              "    .dataframe tbody tr th:only-of-type {\n",
              "        vertical-align: middle;\n",
              "    }\n",
              "\n",
              "    .dataframe tbody tr th {\n",
              "        vertical-align: top;\n",
              "    }\n",
              "\n",
              "    .dataframe thead th {\n",
              "        text-align: right;\n",
              "    }\n",
              "</style>\n",
              "<table border=\"1\" class=\"dataframe\">\n",
              "  <thead>\n",
              "    <tr style=\"text-align: right;\">\n",
              "      <th></th>\n",
              "      <th>label</th>\n",
              "      <th>clean_Sub</th>\n",
              "      <th>clean_Body</th>\n",
              "    </tr>\n",
              "  </thead>\n",
              "  <tbody>\n",
              "    <tr>\n",
              "      <th>0</th>\n",
              "      <td>ham</td>\n",
              "      <td>[enron, methanol, meter]</td>\n",
              "      <td>[follow, note, gave, monday, preliminary, flow, data, provided, daren, please, override, pop, da...</td>\n",
              "    </tr>\n",
              "    <tr>\n",
              "      <th>1</th>\n",
              "      <td>ham</td>\n",
              "      <td>[hpl, nom, january]</td>\n",
              "      <td>[see, attached, file, hplnol, xl, hplnol, xl]</td>\n",
              "    </tr>\n",
              "    <tr>\n",
              "      <th>2</th>\n",
              "      <td>ham</td>\n",
              "      <td>[neon, retreat]</td>\n",
              "      <td>[ho, ho, ho, around, wonderful, time, year, neon, leader, retreat, time, know, time, year, extre...</td>\n",
              "    </tr>\n",
              "    <tr>\n",
              "      <th>3</th>\n",
              "      <td>spam</td>\n",
              "      <td>[photoshop, window, office, cheap, main, trending]</td>\n",
              "      <td>[abasement, darer, prudently, fortuitous, undergone, lighthearted, charm, orinoco, taster, railr...</td>\n",
              "    </tr>\n",
              "    <tr>\n",
              "      <th>4</th>\n",
              "      <td>ham</td>\n",
              "      <td>[indian, spring]</td>\n",
              "      <td>[deal, book, teco, pvr, revenue, understanding, teco, sends, u, check, received, answer, whether...</td>\n",
              "    </tr>\n",
              "  </tbody>\n",
              "</table>\n",
              "</div>\n",
              "      <button class=\"colab-df-convert\" onclick=\"convertToInteractive('df-a2365931-e632-4708-9ef2-33a8fe2c873b')\"\n",
              "              title=\"Convert this dataframe to an interactive table.\"\n",
              "              style=\"display:none;\">\n",
              "        \n",
              "  <svg xmlns=\"http://www.w3.org/2000/svg\" height=\"24px\"viewBox=\"0 0 24 24\"\n",
              "       width=\"24px\">\n",
              "    <path d=\"M0 0h24v24H0V0z\" fill=\"none\"/>\n",
              "    <path d=\"M18.56 5.44l.94 2.06.94-2.06 2.06-.94-2.06-.94-.94-2.06-.94 2.06-2.06.94zm-11 1L8.5 8.5l.94-2.06 2.06-.94-2.06-.94L8.5 2.5l-.94 2.06-2.06.94zm10 10l.94 2.06.94-2.06 2.06-.94-2.06-.94-.94-2.06-.94 2.06-2.06.94z\"/><path d=\"M17.41 7.96l-1.37-1.37c-.4-.4-.92-.59-1.43-.59-.52 0-1.04.2-1.43.59L10.3 9.45l-7.72 7.72c-.78.78-.78 2.05 0 2.83L4 21.41c.39.39.9.59 1.41.59.51 0 1.02-.2 1.41-.59l7.78-7.78 2.81-2.81c.8-.78.8-2.07 0-2.86zM5.41 20L4 18.59l7.72-7.72 1.47 1.35L5.41 20z\"/>\n",
              "  </svg>\n",
              "      </button>\n",
              "      \n",
              "  <style>\n",
              "    .colab-df-container {\n",
              "      display:flex;\n",
              "      flex-wrap:wrap;\n",
              "      gap: 12px;\n",
              "    }\n",
              "\n",
              "    .colab-df-convert {\n",
              "      background-color: #E8F0FE;\n",
              "      border: none;\n",
              "      border-radius: 50%;\n",
              "      cursor: pointer;\n",
              "      display: none;\n",
              "      fill: #1967D2;\n",
              "      height: 32px;\n",
              "      padding: 0 0 0 0;\n",
              "      width: 32px;\n",
              "    }\n",
              "\n",
              "    .colab-df-convert:hover {\n",
              "      background-color: #E2EBFA;\n",
              "      box-shadow: 0px 1px 2px rgba(60, 64, 67, 0.3), 0px 1px 3px 1px rgba(60, 64, 67, 0.15);\n",
              "      fill: #174EA6;\n",
              "    }\n",
              "\n",
              "    [theme=dark] .colab-df-convert {\n",
              "      background-color: #3B4455;\n",
              "      fill: #D2E3FC;\n",
              "    }\n",
              "\n",
              "    [theme=dark] .colab-df-convert:hover {\n",
              "      background-color: #434B5C;\n",
              "      box-shadow: 0px 1px 3px 1px rgba(0, 0, 0, 0.15);\n",
              "      filter: drop-shadow(0px 1px 2px rgba(0, 0, 0, 0.3));\n",
              "      fill: #FFFFFF;\n",
              "    }\n",
              "  </style>\n",
              "\n",
              "      <script>\n",
              "        const buttonEl =\n",
              "          document.querySelector('#df-a2365931-e632-4708-9ef2-33a8fe2c873b button.colab-df-convert');\n",
              "        buttonEl.style.display =\n",
              "          google.colab.kernel.accessAllowed ? 'block' : 'none';\n",
              "\n",
              "        async function convertToInteractive(key) {\n",
              "          const element = document.querySelector('#df-a2365931-e632-4708-9ef2-33a8fe2c873b');\n",
              "          const dataTable =\n",
              "            await google.colab.kernel.invokeFunction('convertToInteractive',\n",
              "                                                     [key], {});\n",
              "          if (!dataTable) return;\n",
              "\n",
              "          const docLinkHtml = 'Like what you see? Visit the ' +\n",
              "            '<a target=\"_blank\" href=https://colab.research.google.com/notebooks/data_table.ipynb>data table notebook</a>'\n",
              "            + ' to learn more about interactive tables.';\n",
              "          element.innerHTML = '';\n",
              "          dataTable['output_type'] = 'display_data';\n",
              "          await google.colab.output.renderOutput(dataTable, element);\n",
              "          const docLink = document.createElement('div');\n",
              "          docLink.innerHTML = docLinkHtml;\n",
              "          element.appendChild(docLink);\n",
              "        }\n",
              "      </script>\n",
              "    </div>\n",
              "  </div>\n",
              "  "
            ]
          },
          "metadata": {},
          "execution_count": 21
        }
      ]
    },
    {
      "cell_type": "code",
      "source": [
        "clean_email[\"Sub_length\"] = clean_email[\"clean_Sub\"].apply(len)"
      ],
      "metadata": {
        "id": "ODKfRrlGV63w"
      },
      "execution_count": null,
      "outputs": []
    },
    {
      "cell_type": "code",
      "source": [
        "clean_email[\"Body_length\"] = clean_email[\"clean_Body\"].apply(len)"
      ],
      "metadata": {
        "id": "RcQwvPAuW4uE"
      },
      "execution_count": null,
      "outputs": []
    },
    {
      "cell_type": "code",
      "source": [
        "clean_email.head()"
      ],
      "metadata": {
        "colab": {
          "base_uri": "https://localhost:8080/",
          "height": 206
        },
        "id": "kKR6_FvGW-ZJ",
        "outputId": "ffb08da8-f8d9-4ab4-cd13-75afe4f3b771"
      },
      "execution_count": null,
      "outputs": [
        {
          "output_type": "execute_result",
          "data": {
            "text/plain": [
              "  label                                           clean_Sub  \\\n",
              "0   ham                            [enron, methanol, meter]   \n",
              "1   ham                                 [hpl, nom, january]   \n",
              "2   ham                                     [neon, retreat]   \n",
              "3  spam  [photoshop, window, office, cheap, main, trending]   \n",
              "4   ham                                    [indian, spring]   \n",
              "\n",
              "                                                                                            clean_Body  \\\n",
              "0  [follow, note, gave, monday, preliminary, flow, data, provided, daren, please, override, pop, da...   \n",
              "1                                                        [see, attached, file, hplnol, xl, hplnol, xl]   \n",
              "2  [ho, ho, ho, around, wonderful, time, year, neon, leader, retreat, time, know, time, year, extre...   \n",
              "3  [abasement, darer, prudently, fortuitous, undergone, lighthearted, charm, orinoco, taster, railr...   \n",
              "4  [deal, book, teco, pvr, revenue, understanding, teco, sends, u, check, received, answer, whether...   \n",
              "\n",
              "   Sub_length  Body_length  \n",
              "0           3           27  \n",
              "1           3            7  \n",
              "2           2          208  \n",
              "3           6           37  \n",
              "4           2           26  "
            ],
            "text/html": [
              "\n",
              "  <div id=\"df-443423a6-f843-40b0-a435-3d4200e09e4c\">\n",
              "    <div class=\"colab-df-container\">\n",
              "      <div>\n",
              "<style scoped>\n",
              "    .dataframe tbody tr th:only-of-type {\n",
              "        vertical-align: middle;\n",
              "    }\n",
              "\n",
              "    .dataframe tbody tr th {\n",
              "        vertical-align: top;\n",
              "    }\n",
              "\n",
              "    .dataframe thead th {\n",
              "        text-align: right;\n",
              "    }\n",
              "</style>\n",
              "<table border=\"1\" class=\"dataframe\">\n",
              "  <thead>\n",
              "    <tr style=\"text-align: right;\">\n",
              "      <th></th>\n",
              "      <th>label</th>\n",
              "      <th>clean_Sub</th>\n",
              "      <th>clean_Body</th>\n",
              "      <th>Sub_length</th>\n",
              "      <th>Body_length</th>\n",
              "    </tr>\n",
              "  </thead>\n",
              "  <tbody>\n",
              "    <tr>\n",
              "      <th>0</th>\n",
              "      <td>ham</td>\n",
              "      <td>[enron, methanol, meter]</td>\n",
              "      <td>[follow, note, gave, monday, preliminary, flow, data, provided, daren, please, override, pop, da...</td>\n",
              "      <td>3</td>\n",
              "      <td>27</td>\n",
              "    </tr>\n",
              "    <tr>\n",
              "      <th>1</th>\n",
              "      <td>ham</td>\n",
              "      <td>[hpl, nom, january]</td>\n",
              "      <td>[see, attached, file, hplnol, xl, hplnol, xl]</td>\n",
              "      <td>3</td>\n",
              "      <td>7</td>\n",
              "    </tr>\n",
              "    <tr>\n",
              "      <th>2</th>\n",
              "      <td>ham</td>\n",
              "      <td>[neon, retreat]</td>\n",
              "      <td>[ho, ho, ho, around, wonderful, time, year, neon, leader, retreat, time, know, time, year, extre...</td>\n",
              "      <td>2</td>\n",
              "      <td>208</td>\n",
              "    </tr>\n",
              "    <tr>\n",
              "      <th>3</th>\n",
              "      <td>spam</td>\n",
              "      <td>[photoshop, window, office, cheap, main, trending]</td>\n",
              "      <td>[abasement, darer, prudently, fortuitous, undergone, lighthearted, charm, orinoco, taster, railr...</td>\n",
              "      <td>6</td>\n",
              "      <td>37</td>\n",
              "    </tr>\n",
              "    <tr>\n",
              "      <th>4</th>\n",
              "      <td>ham</td>\n",
              "      <td>[indian, spring]</td>\n",
              "      <td>[deal, book, teco, pvr, revenue, understanding, teco, sends, u, check, received, answer, whether...</td>\n",
              "      <td>2</td>\n",
              "      <td>26</td>\n",
              "    </tr>\n",
              "  </tbody>\n",
              "</table>\n",
              "</div>\n",
              "      <button class=\"colab-df-convert\" onclick=\"convertToInteractive('df-443423a6-f843-40b0-a435-3d4200e09e4c')\"\n",
              "              title=\"Convert this dataframe to an interactive table.\"\n",
              "              style=\"display:none;\">\n",
              "        \n",
              "  <svg xmlns=\"http://www.w3.org/2000/svg\" height=\"24px\"viewBox=\"0 0 24 24\"\n",
              "       width=\"24px\">\n",
              "    <path d=\"M0 0h24v24H0V0z\" fill=\"none\"/>\n",
              "    <path d=\"M18.56 5.44l.94 2.06.94-2.06 2.06-.94-2.06-.94-.94-2.06-.94 2.06-2.06.94zm-11 1L8.5 8.5l.94-2.06 2.06-.94-2.06-.94L8.5 2.5l-.94 2.06-2.06.94zm10 10l.94 2.06.94-2.06 2.06-.94-2.06-.94-.94-2.06-.94 2.06-2.06.94z\"/><path d=\"M17.41 7.96l-1.37-1.37c-.4-.4-.92-.59-1.43-.59-.52 0-1.04.2-1.43.59L10.3 9.45l-7.72 7.72c-.78.78-.78 2.05 0 2.83L4 21.41c.39.39.9.59 1.41.59.51 0 1.02-.2 1.41-.59l7.78-7.78 2.81-2.81c.8-.78.8-2.07 0-2.86zM5.41 20L4 18.59l7.72-7.72 1.47 1.35L5.41 20z\"/>\n",
              "  </svg>\n",
              "      </button>\n",
              "      \n",
              "  <style>\n",
              "    .colab-df-container {\n",
              "      display:flex;\n",
              "      flex-wrap:wrap;\n",
              "      gap: 12px;\n",
              "    }\n",
              "\n",
              "    .colab-df-convert {\n",
              "      background-color: #E8F0FE;\n",
              "      border: none;\n",
              "      border-radius: 50%;\n",
              "      cursor: pointer;\n",
              "      display: none;\n",
              "      fill: #1967D2;\n",
              "      height: 32px;\n",
              "      padding: 0 0 0 0;\n",
              "      width: 32px;\n",
              "    }\n",
              "\n",
              "    .colab-df-convert:hover {\n",
              "      background-color: #E2EBFA;\n",
              "      box-shadow: 0px 1px 2px rgba(60, 64, 67, 0.3), 0px 1px 3px 1px rgba(60, 64, 67, 0.15);\n",
              "      fill: #174EA6;\n",
              "    }\n",
              "\n",
              "    [theme=dark] .colab-df-convert {\n",
              "      background-color: #3B4455;\n",
              "      fill: #D2E3FC;\n",
              "    }\n",
              "\n",
              "    [theme=dark] .colab-df-convert:hover {\n",
              "      background-color: #434B5C;\n",
              "      box-shadow: 0px 1px 3px 1px rgba(0, 0, 0, 0.15);\n",
              "      filter: drop-shadow(0px 1px 2px rgba(0, 0, 0, 0.3));\n",
              "      fill: #FFFFFF;\n",
              "    }\n",
              "  </style>\n",
              "\n",
              "      <script>\n",
              "        const buttonEl =\n",
              "          document.querySelector('#df-443423a6-f843-40b0-a435-3d4200e09e4c button.colab-df-convert');\n",
              "        buttonEl.style.display =\n",
              "          google.colab.kernel.accessAllowed ? 'block' : 'none';\n",
              "\n",
              "        async function convertToInteractive(key) {\n",
              "          const element = document.querySelector('#df-443423a6-f843-40b0-a435-3d4200e09e4c');\n",
              "          const dataTable =\n",
              "            await google.colab.kernel.invokeFunction('convertToInteractive',\n",
              "                                                     [key], {});\n",
              "          if (!dataTable) return;\n",
              "\n",
              "          const docLinkHtml = 'Like what you see? Visit the ' +\n",
              "            '<a target=\"_blank\" href=https://colab.research.google.com/notebooks/data_table.ipynb>data table notebook</a>'\n",
              "            + ' to learn more about interactive tables.';\n",
              "          element.innerHTML = '';\n",
              "          dataTable['output_type'] = 'display_data';\n",
              "          await google.colab.output.renderOutput(dataTable, element);\n",
              "          const docLink = document.createElement('div');\n",
              "          docLink.innerHTML = docLinkHtml;\n",
              "          element.appendChild(docLink);\n",
              "        }\n",
              "      </script>\n",
              "    </div>\n",
              "  </div>\n",
              "  "
            ]
          },
          "metadata": {},
          "execution_count": 24
        }
      ]
    },
    {
      "cell_type": "code",
      "source": [
        "clean_email.shape"
      ],
      "metadata": {
        "colab": {
          "base_uri": "https://localhost:8080/"
        },
        "id": "tL2XCZZAmmCp",
        "outputId": "eafb6ca0-9964-4c84-a932-6c8dd38d0ec1"
      },
      "execution_count": null,
      "outputs": [
        {
          "output_type": "execute_result",
          "data": {
            "text/plain": [
              "(5171, 5)"
            ]
          },
          "metadata": {},
          "execution_count": 25
        }
      ]
    },
    {
      "cell_type": "code",
      "source": [
        "clean_email.hist(column = 'Sub_length', by ='label',figsize=(12,4))#, bins =5)"
      ],
      "metadata": {
        "colab": {
          "base_uri": "https://localhost:8080/",
          "height": 344
        },
        "id": "V84-W1r2XATK",
        "outputId": "0c7c82d6-79b8-4780-d031-324ef81096bb"
      },
      "execution_count": null,
      "outputs": [
        {
          "output_type": "execute_result",
          "data": {
            "text/plain": [
              "array([<matplotlib.axes._subplots.AxesSubplot object at 0x7fae19ecb690>,\n",
              "       <matplotlib.axes._subplots.AxesSubplot object at 0x7fae19e24e10>],\n",
              "      dtype=object)"
            ]
          },
          "metadata": {},
          "execution_count": 26
        },
        {
          "output_type": "display_data",
          "data": {
            "text/plain": [
              "<Figure size 864x288 with 2 Axes>"
            ],
            "image/png": "[encoded data removed]"
          },
          "metadata": {
            "needs_background": "light"
          }
        }
      ]
    },
    {
      "cell_type": "markdown",
      "source": [
        "Most number of HAM emails have atmost  50 characters or slightly more and highest number of characters goes till 175. Whereas in case of SPAM, most of the emails have characters till 250 in the subject line itself. The highest goes beyond 2000. \n",
        "In the SPAM mail subject line, the total number of characters is more than the total number of characters in HAM mail."
      ],
      "metadata": {
        "id": "auJ2ZQvxX00Z"
      }
    },
    {
      "cell_type": "code",
      "source": [
        "clean_email.hist(column = 'Body_length', by ='label',figsize=(12,4))#, bins = 10)"
      ],
      "metadata": {
        "colab": {
          "base_uri": "https://localhost:8080/",
          "height": 350
        },
        "id": "HnupN-aYXTJW",
        "outputId": "b7488f2c-733e-4ba3-e077-70ccdb2ad506"
      },
      "execution_count": null,
      "outputs": [
        {
          "output_type": "execute_result",
          "data": {
            "text/plain": [
              "array([<matplotlib.axes._subplots.AxesSubplot object at 0x7fae19d3fbd0>,\n",
              "       <matplotlib.axes._subplots.AxesSubplot object at 0x7fae1985a190>],\n",
              "      dtype=object)"
            ]
          },
          "metadata": {},
          "execution_count": 27
        },
        {
          "output_type": "display_data",
          "data": {
            "text/plain": [
              "<Figure size 864x288 with 2 Axes>"
            ],
            "image/png": "[encoded data removed]"
          },
          "metadata": {
            "needs_background": "light"
          }
        }
      ]
    },
    {
      "cell_type": "markdown",
      "source": [
        "Most number of HAM emails have atmost  2500 characters or slightly more and highest number of characters goes till 7500. Whereas in case of SPAM, most of the emails have characters till 5000 or more.\n",
        "In the SPAM mail, the total number of characters is more than the total number of characters in HAM mail."
      ],
      "metadata": {
        "id": "h82B68fMXth3"
      }
    },
    {
      "cell_type": "markdown",
      "source": [
        "***Vectorization***"
      ],
      "metadata": {
        "id": "xVgdcCGGe4xl"
      }
    },
    {
      "cell_type": "code",
      "source": [
        "from sklearn.feature_extraction.text import CountVectorizer"
      ],
      "metadata": {
        "id": "hm4rxr9IXYa4"
      },
      "execution_count": null,
      "outputs": []
    },
    {
      "cell_type": "code",
      "source": [
        "vectorization = CountVectorizer(analyzer = text_cleaner)\n",
        "X = vectorization.fit(email_df['subject'])"
      ],
      "metadata": {
        "id": "15Qw6YRib9CY"
      },
      "execution_count": null,
      "outputs": []
    },
    {
      "cell_type": "code",
      "source": [
        "X_transform = X.transform(email_df['subject'])\n",
        "print(X_transform)"
      ],
      "metadata": {
        "colab": {
          "base_uri": "https://localhost:8080/"
        },
        "id": "AA9qLoIiehRq",
        "outputId": "2a1bf2b4-f88d-455c-dbf7-056538b2d0c0"
      },
      "execution_count": null,
      "outputs": [
        {
          "output_type": "stream",
          "name": "stdout",
          "text": [
            "  (0, 1207)\t1\n",
            "  (0, 2289)\t1\n",
            "  (0, 2290)\t1\n",
            "  (1, 1730)\t1\n",
            "  (1, 1923)\t1\n",
            "  (1, 2475)\t1\n",
            "  (2, 2438)\t1\n",
            "  (2, 3084)\t1\n",
            "  (3, 591)\t1\n",
            "  (3, 2178)\t1\n",
            "  (3, 2535)\t1\n",
            "  (3, 2722)\t1\n",
            "  (3, 3721)\t1\n",
            "  (3, 3995)\t1\n",
            "  (4, 1821)\t1\n",
            "  (4, 3424)\t1\n",
            "  (5, 46)\t1\n",
            "  (5, 573)\t1\n",
            "  (5, 1153)\t1\n",
            "  (5, 3957)\t1\n",
            "  (6, 568)\t1\n",
            "  (6, 3208)\t1\n",
            "  (6, 3424)\t1\n",
            "  (6, 3570)\t1\n",
            "  (7, 363)\t1\n",
            "  :\t:\n",
            "  (5164, 3350)\t1\n",
            "  (5164, 3940)\t1\n",
            "  (5165, 843)\t1\n",
            "  (5165, 1081)\t1\n",
            "  (5165, 1193)\t1\n",
            "  (5165, 1481)\t1\n",
            "  (5165, 2289)\t1\n",
            "  (5165, 2470)\t1\n",
            "  (5165, 2952)\t1\n",
            "  (5166, 1462)\t1\n",
            "  (5166, 2911)\t1\n",
            "  (5167, 1416)\t1\n",
            "  (5167, 2480)\t1\n",
            "  (5168, 497)\t1\n",
            "  (5168, 886)\t1\n",
            "  (5168, 1501)\t1\n",
            "  (5168, 2479)\t1\n",
            "  (5169, 33)\t1\n",
            "  (5169, 265)\t1\n",
            "  (5169, 1823)\t1\n",
            "  (5169, 4031)\t1\n",
            "  (5170, 105)\t1\n",
            "  (5170, 312)\t1\n",
            "  (5170, 1795)\t1\n",
            "  (5170, 2554)\t1\n"
          ]
        }
      ]
    },
    {
      "cell_type": "code",
      "source": [
        "vectorization1 = CountVectorizer(analyzer = text_cleaner)\n",
        "X1 = vectorization1.fit(email_df['body'])"
      ],
      "metadata": {
        "id": "jgtWXYe-iC_f"
      },
      "execution_count": null,
      "outputs": []
    },
    {
      "cell_type": "code",
      "source": [
        "X_transform1 = X1.transform(email_df['body'])\n",
        "print(X_transform1)"
      ],
      "metadata": {
        "colab": {
          "base_uri": "https://localhost:8080/"
        },
        "id": "MoONKHFyiPp-",
        "outputId": "ac6cd27f-8878-4240-d8f7-ccd45e213c91"
      },
      "execution_count": null,
      "outputs": [
        {
          "output_type": "stream",
          "name": "stdout",
          "text": [
            "  (0, 412)\t1\n",
            "  (0, 2367)\t1\n",
            "  (0, 6738)\t1\n",
            "  (0, 8588)\t1\n",
            "  (0, 9689)\t2\n",
            "  (0, 9783)\t1\n",
            "  (0, 9838)\t1\n",
            "  (0, 12265)\t1\n",
            "  (0, 14916)\t1\n",
            "  (0, 15020)\t1\n",
            "  (0, 15821)\t1\n",
            "  (0, 15871)\t1\n",
            "  (0, 25209)\t1\n",
            "  (0, 26058)\t1\n",
            "  (0, 26613)\t1\n",
            "  (0, 26929)\t1\n",
            "  (0, 27789)\t1\n",
            "  (0, 29229)\t1\n",
            "  (0, 29473)\t1\n",
            "  (0, 29810)\t1\n",
            "  (0, 29866)\t1\n",
            "  (0, 30294)\t1\n",
            "  (0, 30518)\t1\n",
            "  (0, 31617)\t1\n",
            "  (0, 40114)\t1\n",
            "  :\t:\n",
            "  (5170, 26057)\t1\n",
            "  (5170, 26568)\t1\n",
            "  (5170, 26613)\t1\n",
            "  (5170, 27287)\t1\n",
            "  (5170, 27308)\t5\n",
            "  (5170, 28155)\t1\n",
            "  (5170, 29229)\t2\n",
            "  (5170, 30028)\t1\n",
            "  (5170, 30251)\t1\n",
            "  (5170, 31472)\t4\n",
            "  (5170, 31557)\t1\n",
            "  (5170, 31894)\t1\n",
            "  (5170, 32160)\t1\n",
            "  (5170, 32988)\t1\n",
            "  (5170, 33133)\t1\n",
            "  (5170, 33928)\t1\n",
            "  (5170, 34007)\t2\n",
            "  (5170, 36455)\t1\n",
            "  (5170, 36789)\t1\n",
            "  (5170, 37314)\t1\n",
            "  (5170, 37630)\t1\n",
            "  (5170, 39152)\t1\n",
            "  (5170, 39503)\t1\n",
            "  (5170, 40419)\t1\n",
            "  (5170, 40587)\t1\n"
          ]
        }
      ]
    },
    {
      "cell_type": "markdown",
      "source": [
        "***TF-IDF***"
      ],
      "metadata": {
        "id": "DSlj-lVQe-6Q"
      }
    },
    {
      "cell_type": "code",
      "source": [
        "tfidf_transformer = TfidfTransformer().fit(X_transform)"
      ],
      "metadata": {
        "id": "E6-7RNgpemO9"
      },
      "execution_count": null,
      "outputs": []
    },
    {
      "cell_type": "code",
      "source": [
        "X_tfidf = tfidf_transformer.transform(X_transform)\n",
        "print(X_tfidf.shape)"
      ],
      "metadata": {
        "colab": {
          "base_uri": "https://localhost:8080/"
        },
        "id": "X3vicZM1fIs2",
        "outputId": "34aba291-a726-4908-db11-4ffcd3cb0e0d"
      },
      "execution_count": null,
      "outputs": [
        {
          "output_type": "stream",
          "name": "stdout",
          "text": [
            "(5171, 4123)\n"
          ]
        }
      ]
    },
    {
      "cell_type": "code",
      "source": [
        "tfidf_transformer1 = TfidfTransformer().fit(X_transform1)"
      ],
      "metadata": {
        "id": "93b8WZh7iame"
      },
      "execution_count": null,
      "outputs": []
    },
    {
      "cell_type": "code",
      "source": [
        "X_tfidf1 = tfidf_transformer1.transform(X_transform1)\n",
        "print(X_tfidf1.shape)"
      ],
      "metadata": {
        "colab": {
          "base_uri": "https://localhost:8080/"
        },
        "id": "ArBxXxVlifql",
        "outputId": "e17aebc2-154d-40d8-d1d8-71edf5e20f40"
      },
      "execution_count": null,
      "outputs": [
        {
          "output_type": "stream",
          "name": "stdout",
          "text": [
            "(5171, 42525)\n"
          ]
        }
      ]
    },
    {
      "cell_type": "markdown",
      "source": [
        "***Classification Model***"
      ],
      "metadata": {
        "id": "3QEJ9RrmfRJz"
      }
    },
    {
      "cell_type": "code",
      "source": [
        "X_train, X_test, y_train, y_test = train_test_split(X_tfidf, clean_email['label'], test_size=0.30, random_state = 50)    \n",
        "clf = SVC(kernel='linear').fit(X_train, y_train)"
      ],
      "metadata": {
        "id": "qRsiY4dUfLcq"
      },
      "execution_count": null,
      "outputs": []
    },
    {
      "cell_type": "code",
      "source": [
        "predictions = clf.predict(X_test)\n",
        "print('predicted', predictions)"
      ],
      "metadata": {
        "colab": {
          "base_uri": "https://localhost:8080/"
        },
        "id": "v4C8uZ7KfVfX",
        "outputId": "88446ffe-b5f4-423d-c562-1dc420a9ca94"
      },
      "execution_count": null,
      "outputs": [
        {
          "output_type": "stream",
          "name": "stdout",
          "text": [
            "predicted ['ham' 'ham' 'ham' ... 'ham' 'ham' 'spam']\n"
          ]
        }
      ]
    },
    {
      "cell_type": "code",
      "source": [
        "from sklearn.metrics import classification_report\n",
        "print (classification_report(y_test, predictions))"
      ],
      "metadata": {
        "colab": {
          "base_uri": "https://localhost:8080/"
        },
        "id": "yOsqmhItfhnD",
        "outputId": "a82416a7-e4f3-4fb5-9e59-b900655f2adf"
      },
      "execution_count": null,
      "outputs": [
        {
          "output_type": "stream",
          "name": "stdout",
          "text": [
            "              precision    recall  f1-score   support\n",
            "\n",
            "         ham       0.95      0.94      0.95      1103\n",
            "        spam       0.85      0.89      0.87       449\n",
            "\n",
            "    accuracy                           0.92      1552\n",
            "   macro avg       0.90      0.91      0.91      1552\n",
            "weighted avg       0.92      0.92      0.92      1552\n",
            "\n"
          ]
        }
      ]
    },
    {
      "cell_type": "markdown",
      "source": [
        "As our accuracy is 92% and our F1-scores are quite good. So,  we can say that our model is rightly able to classify whether our email is SPAM or not with the subject line only. "
      ],
      "metadata": {
        "id": "BlQPFx-4ta3T"
      }
    },
    {
      "cell_type": "code",
      "source": [
        "from sklearn.metrics import confusion_matrix\n",
        "print(confusion_matrix(y_test,predictions))"
      ],
      "metadata": {
        "colab": {
          "base_uri": "https://localhost:8080/"
        },
        "id": "l5bAH7WchMEX",
        "outputId": "70fc393a-f19e-4fa8-e42b-b964d16324fe"
      },
      "execution_count": null,
      "outputs": [
        {
          "output_type": "stream",
          "name": "stdout",
          "text": [
            "[[1033   70]\n",
            " [  50  399]]\n"
          ]
        }
      ]
    },
    {
      "cell_type": "code",
      "source": [
        "X_train1, X_test1, y_train1, y_test1 = train_test_split(X_tfidf1, clean_email['label'], test_size=0.30, random_state = 50)    \n",
        "clf1 = SVC(kernel='linear').fit(X_train1, y_train1)"
      ],
      "metadata": {
        "id": "PBG0mrFsiuTL"
      },
      "execution_count": null,
      "outputs": []
    },
    {
      "cell_type": "code",
      "source": [
        "predictions1 = clf1.predict(X_test1)\n",
        "print('predicted', predictions1)"
      ],
      "metadata": {
        "colab": {
          "base_uri": "https://localhost:8080/"
        },
        "id": "SyYr1oYkhUiR",
        "outputId": "4d0c5077-cf21-434f-d74f-8cc6ed927176"
      },
      "execution_count": null,
      "outputs": [
        {
          "output_type": "stream",
          "name": "stdout",
          "text": [
            "predicted ['ham' 'ham' 'ham' ... 'ham' 'ham' 'spam']\n"
          ]
        }
      ]
    },
    {
      "cell_type": "code",
      "source": [
        "from sklearn.metrics import classification_report\n",
        "print (classification_report(y_test1, predictions1))"
      ],
      "metadata": {
        "colab": {
          "base_uri": "https://localhost:8080/"
        },
        "id": "yRVGJ-HSi7Kj",
        "outputId": "2f8535df-5960-48db-9e93-3b92b5deadd3"
      },
      "execution_count": null,
      "outputs": [
        {
          "output_type": "stream",
          "name": "stdout",
          "text": [
            "              precision    recall  f1-score   support\n",
            "\n",
            "         ham       0.99      0.98      0.99      1103\n",
            "        spam       0.95      0.99      0.97       449\n",
            "\n",
            "    accuracy                           0.98      1552\n",
            "   macro avg       0.97      0.98      0.98      1552\n",
            "weighted avg       0.98      0.98      0.98      1552\n",
            "\n"
          ]
        }
      ]
    },
    {
      "cell_type": "code",
      "source": [
        "from sklearn.metrics import confusion_matrix\n",
        "print(confusion_matrix(y_test1,predictions1))"
      ],
      "metadata": {
        "colab": {
          "base_uri": "https://localhost:8080/"
        },
        "id": "9DRKpuBqi_kg",
        "outputId": "53833fea-1496-42bc-a318-608ad8d692ad"
      },
      "execution_count": null,
      "outputs": [
        {
          "output_type": "stream",
          "name": "stdout",
          "text": [
            "[[1078   25]\n",
            " [   6  443]]\n"
          ]
        }
      ]
    },
    {
      "cell_type": "markdown",
      "source": [
        "Topic Modeling"
      ],
      "metadata": {
        "id": "ZyHUZSSJmCnV"
      }
    },
    {
      "cell_type": "code",
      "source": [
        "X_train"
      ],
      "metadata": {
        "colab": {
          "base_uri": "https://localhost:8080/"
        },
        "id": "slT4lC-HnLXH",
        "outputId": "25e33367-a9d1-4b99-c75a-b555a77445f1"
      },
      "execution_count": null,
      "outputs": [
        {
          "output_type": "execute_result",
          "data": {
            "text/plain": [
              "<3619x4123 sparse matrix of type '<class 'numpy.float64'>'\n",
              "\twith 13058 stored elements in Compressed Sparse Row format>"
            ]
          },
          "metadata": {},
          "execution_count": 45
        }
      ]
    },
    {
      "cell_type": "code",
      "source": [
        "predictionsx = clf.predict(X_tfidf)"
      ],
      "metadata": {
        "id": "gssLTQvXnWg1"
      },
      "execution_count": null,
      "outputs": []
    },
    {
      "cell_type": "code",
      "source": [
        "clean_email['sub_Pred'] = predictionsx"
      ],
      "metadata": {
        "id": "faVPxzG0jPs_"
      },
      "execution_count": null,
      "outputs": []
    },
    {
      "cell_type": "code",
      "source": [
        "clean_email.head()"
      ],
      "metadata": {
        "colab": {
          "base_uri": "https://localhost:8080/",
          "height": 206
        },
        "id": "jm2hGC-ymaJU",
        "outputId": "280d62ec-9c81-43f4-befb-af6ae95baf73"
      },
      "execution_count": null,
      "outputs": [
        {
          "output_type": "execute_result",
          "data": {
            "text/plain": [
              "  label                                           clean_Sub  \\\n",
              "0   ham                            [enron, methanol, meter]   \n",
              "1   ham                                 [hpl, nom, january]   \n",
              "2   ham                                     [neon, retreat]   \n",
              "3  spam  [photoshop, window, office, cheap, main, trending]   \n",
              "4   ham                                    [indian, spring]   \n",
              "\n",
              "                                                                                            clean_Body  \\\n",
              "0  [follow, note, gave, monday, preliminary, flow, data, provided, daren, please, override, pop, da...   \n",
              "1                                                        [see, attached, file, hplnol, xl, hplnol, xl]   \n",
              "2  [ho, ho, ho, around, wonderful, time, year, neon, leader, retreat, time, know, time, year, extre...   \n",
              "3  [abasement, darer, prudently, fortuitous, undergone, lighthearted, charm, orinoco, taster, railr...   \n",
              "4  [deal, book, teco, pvr, revenue, understanding, teco, sends, u, check, received, answer, whether...   \n",
              "\n",
              "   Sub_length  Body_length sub_Pred  \n",
              "0           3           27      ham  \n",
              "1           3            7      ham  \n",
              "2           2          208      ham  \n",
              "3           6           37     spam  \n",
              "4           2           26      ham  "
            ],
            "text/html": [
              "\n",
              "  <div id=\"df-dd808ba5-94ef-4785-8439-0a5df31e8e0e\">\n",
              "    <div class=\"colab-df-container\">\n",
              "      <div>\n",
              "<style scoped>\n",
              "    .dataframe tbody tr th:only-of-type {\n",
              "        vertical-align: middle;\n",
              "    }\n",
              "\n",
              "    .dataframe tbody tr th {\n",
              "        vertical-align: top;\n",
              "    }\n",
              "\n",
              "    .dataframe thead th {\n",
              "        text-align: right;\n",
              "    }\n",
              "</style>\n",
              "<table border=\"1\" class=\"dataframe\">\n",
              "  <thead>\n",
              "    <tr style=\"text-align: right;\">\n",
              "      <th></th>\n",
              "      <th>label</th>\n",
              "      <th>clean_Sub</th>\n",
              "      <th>clean_Body</th>\n",
              "      <th>Sub_length</th>\n",
              "      <th>Body_length</th>\n",
              "      <th>sub_Pred</th>\n",
              "    </tr>\n",
              "  </thead>\n",
              "  <tbody>\n",
              "    <tr>\n",
              "      <th>0</th>\n",
              "      <td>ham</td>\n",
              "      <td>[enron, methanol, meter]</td>\n",
              "      <td>[follow, note, gave, monday, preliminary, flow, data, provided, daren, please, override, pop, da...</td>\n",
              "      <td>3</td>\n",
              "      <td>27</td>\n",
              "      <td>ham</td>\n",
              "    </tr>\n",
              "    <tr>\n",
              "      <th>1</th>\n",
              "      <td>ham</td>\n",
              "      <td>[hpl, nom, january]</td>\n",
              "      <td>[see, attached, file, hplnol, xl, hplnol, xl]</td>\n",
              "      <td>3</td>\n",
              "      <td>7</td>\n",
              "      <td>ham</td>\n",
              "    </tr>\n",
              "    <tr>\n",
              "      <th>2</th>\n",
              "      <td>ham</td>\n",
              "      <td>[neon, retreat]</td>\n",
              "      <td>[ho, ho, ho, around, wonderful, time, year, neon, leader, retreat, time, know, time, year, extre...</td>\n",
              "      <td>2</td>\n",
              "      <td>208</td>\n",
              "      <td>ham</td>\n",
              "    </tr>\n",
              "    <tr>\n",
              "      <th>3</th>\n",
              "      <td>spam</td>\n",
              "      <td>[photoshop, window, office, cheap, main, trending]</td>\n",
              "      <td>[abasement, darer, prudently, fortuitous, undergone, lighthearted, charm, orinoco, taster, railr...</td>\n",
              "      <td>6</td>\n",
              "      <td>37</td>\n",
              "      <td>spam</td>\n",
              "    </tr>\n",
              "    <tr>\n",
              "      <th>4</th>\n",
              "      <td>ham</td>\n",
              "      <td>[indian, spring]</td>\n",
              "      <td>[deal, book, teco, pvr, revenue, understanding, teco, sends, u, check, received, answer, whether...</td>\n",
              "      <td>2</td>\n",
              "      <td>26</td>\n",
              "      <td>ham</td>\n",
              "    </tr>\n",
              "  </tbody>\n",
              "</table>\n",
              "</div>\n",
              "      <button class=\"colab-df-convert\" onclick=\"convertToInteractive('df-dd808ba5-94ef-4785-8439-0a5df31e8e0e')\"\n",
              "              title=\"Convert this dataframe to an interactive table.\"\n",
              "              style=\"display:none;\">\n",
              "        \n",
              "  <svg xmlns=\"http://www.w3.org/2000/svg\" height=\"24px\"viewBox=\"0 0 24 24\"\n",
              "       width=\"24px\">\n",
              "    <path d=\"M0 0h24v24H0V0z\" fill=\"none\"/>\n",
              "    <path d=\"M18.56 5.44l.94 2.06.94-2.06 2.06-.94-2.06-.94-.94-2.06-.94 2.06-2.06.94zm-11 1L8.5 8.5l.94-2.06 2.06-.94-2.06-.94L8.5 2.5l-.94 2.06-2.06.94zm10 10l.94 2.06.94-2.06 2.06-.94-2.06-.94-.94-2.06-.94 2.06-2.06.94z\"/><path d=\"M17.41 7.96l-1.37-1.37c-.4-.4-.92-.59-1.43-.59-.52 0-1.04.2-1.43.59L10.3 9.45l-7.72 7.72c-.78.78-.78 2.05 0 2.83L4 21.41c.39.39.9.59 1.41.59.51 0 1.02-.2 1.41-.59l7.78-7.78 2.81-2.81c.8-.78.8-2.07 0-2.86zM5.41 20L4 18.59l7.72-7.72 1.47 1.35L5.41 20z\"/>\n",
              "  </svg>\n",
              "      </button>\n",
              "      \n",
              "  <style>\n",
              "    .colab-df-container {\n",
              "      display:flex;\n",
              "      flex-wrap:wrap;\n",
              "      gap: 12px;\n",
              "    }\n",
              "\n",
              "    .colab-df-convert {\n",
              "      background-color: #E8F0FE;\n",
              "      border: none;\n",
              "      border-radius: 50%;\n",
              "      cursor: pointer;\n",
              "      display: none;\n",
              "      fill: #1967D2;\n",
              "      height: 32px;\n",
              "      padding: 0 0 0 0;\n",
              "      width: 32px;\n",
              "    }\n",
              "\n",
              "    .colab-df-convert:hover {\n",
              "      background-color: #E2EBFA;\n",
              "      box-shadow: 0px 1px 2px rgba(60, 64, 67, 0.3), 0px 1px 3px 1px rgba(60, 64, 67, 0.15);\n",
              "      fill: #174EA6;\n",
              "    }\n",
              "\n",
              "    [theme=dark] .colab-df-convert {\n",
              "      background-color: #3B4455;\n",
              "      fill: #D2E3FC;\n",
              "    }\n",
              "\n",
              "    [theme=dark] .colab-df-convert:hover {\n",
              "      background-color: #434B5C;\n",
              "      box-shadow: 0px 1px 3px 1px rgba(0, 0, 0, 0.15);\n",
              "      filter: drop-shadow(0px 1px 2px rgba(0, 0, 0, 0.3));\n",
              "      fill: #FFFFFF;\n",
              "    }\n",
              "  </style>\n",
              "\n",
              "      <script>\n",
              "        const buttonEl =\n",
              "          document.querySelector('#df-dd808ba5-94ef-4785-8439-0a5df31e8e0e button.colab-df-convert');\n",
              "        buttonEl.style.display =\n",
              "          google.colab.kernel.accessAllowed ? 'block' : 'none';\n",
              "\n",
              "        async function convertToInteractive(key) {\n",
              "          const element = document.querySelector('#df-dd808ba5-94ef-4785-8439-0a5df31e8e0e');\n",
              "          const dataTable =\n",
              "            await google.colab.kernel.invokeFunction('convertToInteractive',\n",
              "                                                     [key], {});\n",
              "          if (!dataTable) return;\n",
              "\n",
              "          const docLinkHtml = 'Like what you see? Visit the ' +\n",
              "            '<a target=\"_blank\" href=https://colab.research.google.com/notebooks/data_table.ipynb>data table notebook</a>'\n",
              "            + ' to learn more about interactive tables.';\n",
              "          element.innerHTML = '';\n",
              "          dataTable['output_type'] = 'display_data';\n",
              "          await google.colab.output.renderOutput(dataTable, element);\n",
              "          const docLink = document.createElement('div');\n",
              "          docLink.innerHTML = docLinkHtml;\n",
              "          element.appendChild(docLink);\n",
              "        }\n",
              "      </script>\n",
              "    </div>\n",
              "  </div>\n",
              "  "
            ]
          },
          "metadata": {},
          "execution_count": 48
        }
      ]
    },
    {
      "cell_type": "code",
      "source": [
        "Subject = pd.DataFrame()"
      ],
      "metadata": {
        "id": "lM1O1WEJoGnh"
      },
      "execution_count": null,
      "outputs": []
    },
    {
      "cell_type": "code",
      "source": [
        "Subject = clean_email[clean_email.sub_Pred==\"spam\"]"
      ],
      "metadata": {
        "id": "ydfy1Metp44B"
      },
      "execution_count": null,
      "outputs": []
    },
    {
      "cell_type": "code",
      "source": [
        "Subject.head()"
      ],
      "metadata": {
        "colab": {
          "base_uri": "https://localhost:8080/",
          "height": 206
        },
        "id": "0Cttlc7_rtrj",
        "outputId": "2cd47adc-618a-44d4-fb7c-4fbe50a3e708"
      },
      "execution_count": null,
      "outputs": [
        {
          "output_type": "execute_result",
          "data": {
            "text/plain": [
              "   label                                           clean_Sub  \\\n",
              "3   spam  [photoshop, window, office, cheap, main, trending]   \n",
              "7   spam                 [looking, medication, best, source]   \n",
              "10  spam                    [vocable, rnd, word, asceticism]   \n",
              "13  spam                                  [vic, odin, n, ow]   \n",
              "15  spam          [underpriced, issue, high, return, equity]   \n",
              "\n",
              "                                                                                             clean_Body  \\\n",
              "3   [abasement, darer, prudently, fortuitous, undergone, lighthearted, charm, orinoco, taster, railr...   \n",
              "7   [difficult, make, material, condition, better, best, law, easy, enough, ruin, bad, law, excuse, ...   \n",
              "10  [vcsc, brand, new, stock, attention, vocalscape, inc, stock, symbol, vcsc, vcsc, top, stock, pic...   \n",
              "13  [berne, hotbox, carnal, bride, cutworm, dyadic, guardia, continuous, born, gremlin, akin, counte...   \n",
              "15  [stock, report, dont, sieep, stock, hot, one, company, gaming, transaction, inc, stock, symbol, ...   \n",
              "\n",
              "    Sub_length  Body_length sub_Pred  \n",
              "3            6           37     spam  \n",
              "7            4           67     spam  \n",
              "10           4          636     spam  \n",
              "13           4           44     spam  \n",
              "15           5          805     spam  "
            ],
            "text/html": [
              "\n",
              "  <div id=\"df-a917deaa-4d95-4b01-8950-1c3bf8fd374b\">\n",
              "    <div class=\"colab-df-container\">\n",
              "      <div>\n",
              "<style scoped>\n",
              "    .dataframe tbody tr th:only-of-type {\n",
              "        vertical-align: middle;\n",
              "    }\n",
              "\n",
              "    .dataframe tbody tr th {\n",
              "        vertical-align: top;\n",
              "    }\n",
              "\n",
              "    .dataframe thead th {\n",
              "        text-align: right;\n",
              "    }\n",
              "</style>\n",
              "<table border=\"1\" class=\"dataframe\">\n",
              "  <thead>\n",
              "    <tr style=\"text-align: right;\">\n",
              "      <th></th>\n",
              "      <th>label</th>\n",
              "      <th>clean_Sub</th>\n",
              "      <th>clean_Body</th>\n",
              "      <th>Sub_length</th>\n",
              "      <th>Body_length</th>\n",
              "      <th>sub_Pred</th>\n",
              "    </tr>\n",
              "  </thead>\n",
              "  <tbody>\n",
              "    <tr>\n",
              "      <th>3</th>\n",
              "      <td>spam</td>\n",
              "      <td>[photoshop, window, office, cheap, main, trending]</td>\n",
              "      <td>[abasement, darer, prudently, fortuitous, undergone, lighthearted, charm, orinoco, taster, railr...</td>\n",
              "      <td>6</td>\n",
              "      <td>37</td>\n",
              "      <td>spam</td>\n",
              "    </tr>\n",
              "    <tr>\n",
              "      <th>7</th>\n",
              "      <td>spam</td>\n",
              "      <td>[looking, medication, best, source]</td>\n",
              "      <td>[difficult, make, material, condition, better, best, law, easy, enough, ruin, bad, law, excuse, ...</td>\n",
              "      <td>4</td>\n",
              "      <td>67</td>\n",
              "      <td>spam</td>\n",
              "    </tr>\n",
              "    <tr>\n",
              "      <th>10</th>\n",
              "      <td>spam</td>\n",
              "      <td>[vocable, rnd, word, asceticism]</td>\n",
              "      <td>[vcsc, brand, new, stock, attention, vocalscape, inc, stock, symbol, vcsc, vcsc, top, stock, pic...</td>\n",
              "      <td>4</td>\n",
              "      <td>636</td>\n",
              "      <td>spam</td>\n",
              "    </tr>\n",
              "    <tr>\n",
              "      <th>13</th>\n",
              "      <td>spam</td>\n",
              "      <td>[vic, odin, n, ow]</td>\n",
              "      <td>[berne, hotbox, carnal, bride, cutworm, dyadic, guardia, continuous, born, gremlin, akin, counte...</td>\n",
              "      <td>4</td>\n",
              "      <td>44</td>\n",
              "      <td>spam</td>\n",
              "    </tr>\n",
              "    <tr>\n",
              "      <th>15</th>\n",
              "      <td>spam</td>\n",
              "      <td>[underpriced, issue, high, return, equity]</td>\n",
              "      <td>[stock, report, dont, sieep, stock, hot, one, company, gaming, transaction, inc, stock, symbol, ...</td>\n",
              "      <td>5</td>\n",
              "      <td>805</td>\n",
              "      <td>spam</td>\n",
              "    </tr>\n",
              "  </tbody>\n",
              "</table>\n",
              "</div>\n",
              "      <button class=\"colab-df-convert\" onclick=\"convertToInteractive('df-a917deaa-4d95-4b01-8950-1c3bf8fd374b')\"\n",
              "              title=\"Convert this dataframe to an interactive table.\"\n",
              "              style=\"display:none;\">\n",
              "        \n",
              "  <svg xmlns=\"http://www.w3.org/2000/svg\" height=\"24px\"viewBox=\"0 0 24 24\"\n",
              "       width=\"24px\">\n",
              "    <path d=\"M0 0h24v24H0V0z\" fill=\"none\"/>\n",
              "    <path d=\"M18.56 5.44l.94 2.06.94-2.06 2.06-.94-2.06-.94-.94-2.06-.94 2.06-2.06.94zm-11 1L8.5 8.5l.94-2.06 2.06-.94-2.06-.94L8.5 2.5l-.94 2.06-2.06.94zm10 10l.94 2.06.94-2.06 2.06-.94-2.06-.94-.94-2.06-.94 2.06-2.06.94z\"/><path d=\"M17.41 7.96l-1.37-1.37c-.4-.4-.92-.59-1.43-.59-.52 0-1.04.2-1.43.59L10.3 9.45l-7.72 7.72c-.78.78-.78 2.05 0 2.83L4 21.41c.39.39.9.59 1.41.59.51 0 1.02-.2 1.41-.59l7.78-7.78 2.81-2.81c.8-.78.8-2.07 0-2.86zM5.41 20L4 18.59l7.72-7.72 1.47 1.35L5.41 20z\"/>\n",
              "  </svg>\n",
              "      </button>\n",
              "      \n",
              "  <style>\n",
              "    .colab-df-container {\n",
              "      display:flex;\n",
              "      flex-wrap:wrap;\n",
              "      gap: 12px;\n",
              "    }\n",
              "\n",
              "    .colab-df-convert {\n",
              "      background-color: #E8F0FE;\n",
              "      border: none;\n",
              "      border-radius: 50%;\n",
              "      cursor: pointer;\n",
              "      display: none;\n",
              "      fill: #1967D2;\n",
              "      height: 32px;\n",
              "      padding: 0 0 0 0;\n",
              "      width: 32px;\n",
              "    }\n",
              "\n",
              "    .colab-df-convert:hover {\n",
              "      background-color: #E2EBFA;\n",
              "      box-shadow: 0px 1px 2px rgba(60, 64, 67, 0.3), 0px 1px 3px 1px rgba(60, 64, 67, 0.15);\n",
              "      fill: #174EA6;\n",
              "    }\n",
              "\n",
              "    [theme=dark] .colab-df-convert {\n",
              "      background-color: #3B4455;\n",
              "      fill: #D2E3FC;\n",
              "    }\n",
              "\n",
              "    [theme=dark] .colab-df-convert:hover {\n",
              "      background-color: #434B5C;\n",
              "      box-shadow: 0px 1px 3px 1px rgba(0, 0, 0, 0.15);\n",
              "      filter: drop-shadow(0px 1px 2px rgba(0, 0, 0, 0.3));\n",
              "      fill: #FFFFFF;\n",
              "    }\n",
              "  </style>\n",
              "\n",
              "      <script>\n",
              "        const buttonEl =\n",
              "          document.querySelector('#df-a917deaa-4d95-4b01-8950-1c3bf8fd374b button.colab-df-convert');\n",
              "        buttonEl.style.display =\n",
              "          google.colab.kernel.accessAllowed ? 'block' : 'none';\n",
              "\n",
              "        async function convertToInteractive(key) {\n",
              "          const element = document.querySelector('#df-a917deaa-4d95-4b01-8950-1c3bf8fd374b');\n",
              "          const dataTable =\n",
              "            await google.colab.kernel.invokeFunction('convertToInteractive',\n",
              "                                                     [key], {});\n",
              "          if (!dataTable) return;\n",
              "\n",
              "          const docLinkHtml = 'Like what you see? Visit the ' +\n",
              "            '<a target=\"_blank\" href=https://colab.research.google.com/notebooks/data_table.ipynb>data table notebook</a>'\n",
              "            + ' to learn more about interactive tables.';\n",
              "          element.innerHTML = '';\n",
              "          dataTable['output_type'] = 'display_data';\n",
              "          await google.colab.output.renderOutput(dataTable, element);\n",
              "          const docLink = document.createElement('div');\n",
              "          docLink.innerHTML = docLinkHtml;\n",
              "          element.appendChild(docLink);\n",
              "        }\n",
              "      </script>\n",
              "    </div>\n",
              "  </div>\n",
              "  "
            ]
          },
          "metadata": {},
          "execution_count": 51
        }
      ]
    },
    {
      "cell_type": "code",
      "source": [
        "Subject.drop(['label'],axis=1,inplace=True)"
      ],
      "metadata": {
        "colab": {
          "base_uri": "https://localhost:8080/"
        },
        "id": "mPCb4Aecrvie",
        "outputId": "7b89d14e-2273-4c53-dcbf-881bb3dc1d5b"
      },
      "execution_count": null,
      "outputs": [
        {
          "output_type": "stream",
          "name": "stderr",
          "text": [
            "/usr/local/lib/python3.7/dist-packages/pandas/core/frame.py:4913: SettingWithCopyWarning: \n",
            "A value is trying to be set on a copy of a slice from a DataFrame\n",
            "\n",
            "See the caveats in the documentation: https://pandas.pydata.org/pandas-docs/stable/user_guide/indexing.html#returning-a-view-versus-a-copy\n",
            "  errors=errors,\n"
          ]
        }
      ]
    },
    {
      "cell_type": "code",
      "source": [
        "Subject.head()"
      ],
      "metadata": {
        "colab": {
          "base_uri": "https://localhost:8080/",
          "height": 206
        },
        "id": "aCbwZ7ShsJBW",
        "outputId": "de1806f5-e325-4a9f-dd2a-d77f8596063f"
      },
      "execution_count": null,
      "outputs": [
        {
          "output_type": "execute_result",
          "data": {
            "text/plain": [
              "                                             clean_Sub  \\\n",
              "3   [photoshop, window, office, cheap, main, trending]   \n",
              "7                  [looking, medication, best, source]   \n",
              "10                    [vocable, rnd, word, asceticism]   \n",
              "13                                  [vic, odin, n, ow]   \n",
              "15          [underpriced, issue, high, return, equity]   \n",
              "\n",
              "                                                                                             clean_Body  \\\n",
              "3   [abasement, darer, prudently, fortuitous, undergone, lighthearted, charm, orinoco, taster, railr...   \n",
              "7   [difficult, make, material, condition, better, best, law, easy, enough, ruin, bad, law, excuse, ...   \n",
              "10  [vcsc, brand, new, stock, attention, vocalscape, inc, stock, symbol, vcsc, vcsc, top, stock, pic...   \n",
              "13  [berne, hotbox, carnal, bride, cutworm, dyadic, guardia, continuous, born, gremlin, akin, counte...   \n",
              "15  [stock, report, dont, sieep, stock, hot, one, company, gaming, transaction, inc, stock, symbol, ...   \n",
              "\n",
              "    Sub_length  Body_length sub_Pred  \n",
              "3            6           37     spam  \n",
              "7            4           67     spam  \n",
              "10           4          636     spam  \n",
              "13           4           44     spam  \n",
              "15           5          805     spam  "
            ],
            "text/html": [
              "\n",
              "  <div id=\"df-25076f7c-70bd-41e8-b79c-6b68b5cbb59e\">\n",
              "    <div class=\"colab-df-container\">\n",
              "      <div>\n",
              "<style scoped>\n",
              "    .dataframe tbody tr th:only-of-type {\n",
              "        vertical-align: middle;\n",
              "    }\n",
              "\n",
              "    .dataframe tbody tr th {\n",
              "        vertical-align: top;\n",
              "    }\n",
              "\n",
              "    .dataframe thead th {\n",
              "        text-align: right;\n",
              "    }\n",
              "</style>\n",
              "<table border=\"1\" class=\"dataframe\">\n",
              "  <thead>\n",
              "    <tr style=\"text-align: right;\">\n",
              "      <th></th>\n",
              "      <th>clean_Sub</th>\n",
              "      <th>clean_Body</th>\n",
              "      <th>Sub_length</th>\n",
              "      <th>Body_length</th>\n",
              "      <th>sub_Pred</th>\n",
              "    </tr>\n",
              "  </thead>\n",
              "  <tbody>\n",
              "    <tr>\n",
              "      <th>3</th>\n",
              "      <td>[photoshop, window, office, cheap, main, trending]</td>\n",
              "      <td>[abasement, darer, prudently, fortuitous, undergone, lighthearted, charm, orinoco, taster, railr...</td>\n",
              "      <td>6</td>\n",
              "      <td>37</td>\n",
              "      <td>spam</td>\n",
              "    </tr>\n",
              "    <tr>\n",
              "      <th>7</th>\n",
              "      <td>[looking, medication, best, source]</td>\n",
              "      <td>[difficult, make, material, condition, better, best, law, easy, enough, ruin, bad, law, excuse, ...</td>\n",
              "      <td>4</td>\n",
              "      <td>67</td>\n",
              "      <td>spam</td>\n",
              "    </tr>\n",
              "    <tr>\n",
              "      <th>10</th>\n",
              "      <td>[vocable, rnd, word, asceticism]</td>\n",
              "      <td>[vcsc, brand, new, stock, attention, vocalscape, inc, stock, symbol, vcsc, vcsc, top, stock, pic...</td>\n",
              "      <td>4</td>\n",
              "      <td>636</td>\n",
              "      <td>spam</td>\n",
              "    </tr>\n",
              "    <tr>\n",
              "      <th>13</th>\n",
              "      <td>[vic, odin, n, ow]</td>\n",
              "      <td>[berne, hotbox, carnal, bride, cutworm, dyadic, guardia, continuous, born, gremlin, akin, counte...</td>\n",
              "      <td>4</td>\n",
              "      <td>44</td>\n",
              "      <td>spam</td>\n",
              "    </tr>\n",
              "    <tr>\n",
              "      <th>15</th>\n",
              "      <td>[underpriced, issue, high, return, equity]</td>\n",
              "      <td>[stock, report, dont, sieep, stock, hot, one, company, gaming, transaction, inc, stock, symbol, ...</td>\n",
              "      <td>5</td>\n",
              "      <td>805</td>\n",
              "      <td>spam</td>\n",
              "    </tr>\n",
              "  </tbody>\n",
              "</table>\n",
              "</div>\n",
              "      <button class=\"colab-df-convert\" onclick=\"convertToInteractive('df-25076f7c-70bd-41e8-b79c-6b68b5cbb59e')\"\n",
              "              title=\"Convert this dataframe to an interactive table.\"\n",
              "              style=\"display:none;\">\n",
              "        \n",
              "  <svg xmlns=\"http://www.w3.org/2000/svg\" height=\"24px\"viewBox=\"0 0 24 24\"\n",
              "       width=\"24px\">\n",
              "    <path d=\"M0 0h24v24H0V0z\" fill=\"none\"/>\n",
              "    <path d=\"M18.56 5.44l.94 2.06.94-2.06 2.06-.94-2.06-.94-.94-2.06-.94 2.06-2.06.94zm-11 1L8.5 8.5l.94-2.06 2.06-.94-2.06-.94L8.5 2.5l-.94 2.06-2.06.94zm10 10l.94 2.06.94-2.06 2.06-.94-2.06-.94-.94-2.06-.94 2.06-2.06.94z\"/><path d=\"M17.41 7.96l-1.37-1.37c-.4-.4-.92-.59-1.43-.59-.52 0-1.04.2-1.43.59L10.3 9.45l-7.72 7.72c-.78.78-.78 2.05 0 2.83L4 21.41c.39.39.9.59 1.41.59.51 0 1.02-.2 1.41-.59l7.78-7.78 2.81-2.81c.8-.78.8-2.07 0-2.86zM5.41 20L4 18.59l7.72-7.72 1.47 1.35L5.41 20z\"/>\n",
              "  </svg>\n",
              "      </button>\n",
              "      \n",
              "  <style>\n",
              "    .colab-df-container {\n",
              "      display:flex;\n",
              "      flex-wrap:wrap;\n",
              "      gap: 12px;\n",
              "    }\n",
              "\n",
              "    .colab-df-convert {\n",
              "      background-color: #E8F0FE;\n",
              "      border: none;\n",
              "      border-radius: 50%;\n",
              "      cursor: pointer;\n",
              "      display: none;\n",
              "      fill: #1967D2;\n",
              "      height: 32px;\n",
              "      padding: 0 0 0 0;\n",
              "      width: 32px;\n",
              "    }\n",
              "\n",
              "    .colab-df-convert:hover {\n",
              "      background-color: #E2EBFA;\n",
              "      box-shadow: 0px 1px 2px rgba(60, 64, 67, 0.3), 0px 1px 3px 1px rgba(60, 64, 67, 0.15);\n",
              "      fill: #174EA6;\n",
              "    }\n",
              "\n",
              "    [theme=dark] .colab-df-convert {\n",
              "      background-color: #3B4455;\n",
              "      fill: #D2E3FC;\n",
              "    }\n",
              "\n",
              "    [theme=dark] .colab-df-convert:hover {\n",
              "      background-color: #434B5C;\n",
              "      box-shadow: 0px 1px 3px 1px rgba(0, 0, 0, 0.15);\n",
              "      filter: drop-shadow(0px 1px 2px rgba(0, 0, 0, 0.3));\n",
              "      fill: #FFFFFF;\n",
              "    }\n",
              "  </style>\n",
              "\n",
              "      <script>\n",
              "        const buttonEl =\n",
              "          document.querySelector('#df-25076f7c-70bd-41e8-b79c-6b68b5cbb59e button.colab-df-convert');\n",
              "        buttonEl.style.display =\n",
              "          google.colab.kernel.accessAllowed ? 'block' : 'none';\n",
              "\n",
              "        async function convertToInteractive(key) {\n",
              "          const element = document.querySelector('#df-25076f7c-70bd-41e8-b79c-6b68b5cbb59e');\n",
              "          const dataTable =\n",
              "            await google.colab.kernel.invokeFunction('convertToInteractive',\n",
              "                                                     [key], {});\n",
              "          if (!dataTable) return;\n",
              "\n",
              "          const docLinkHtml = 'Like what you see? Visit the ' +\n",
              "            '<a target=\"_blank\" href=https://colab.research.google.com/notebooks/data_table.ipynb>data table notebook</a>'\n",
              "            + ' to learn more about interactive tables.';\n",
              "          element.innerHTML = '';\n",
              "          dataTable['output_type'] = 'display_data';\n",
              "          await google.colab.output.renderOutput(dataTable, element);\n",
              "          const docLink = document.createElement('div');\n",
              "          docLink.innerHTML = docLinkHtml;\n",
              "          element.appendChild(docLink);\n",
              "        }\n",
              "      </script>\n",
              "    </div>\n",
              "  </div>\n",
              "  "
            ]
          },
          "metadata": {},
          "execution_count": 53
        }
      ]
    },
    {
      "cell_type": "markdown",
      "source": [
        "Topic modelling for SPAM classified emails"
      ],
      "metadata": {
        "id": "pLEsMgtltjGC"
      }
    },
    {
      "cell_type": "code",
      "source": [
        "import gensim #Topic Modelling Technicque called LDA (Latent Dirichlet Allocation)\n",
        "from gensim.utils import simple_preprocess\n",
        "def sent_to_words(sentences):\n",
        "    for sentence in sentences:\n",
        "        yield(gensim.utils.simple_preprocess(str(sentence), deacc=True))  # deacc=True removes punctuations\n",
        "data_Sub = Subject['clean_Sub']\n",
        "data_words_Sub = list(sent_to_words(data_Sub))\n",
        "print(data_words_Sub[:1][0][:30])"
      ],
      "metadata": {
        "colab": {
          "base_uri": "https://localhost:8080/"
        },
        "id": "VBmQ-Kn3sRKD",
        "outputId": "51006b4c-a93f-430c-f609-a24b2384a91b"
      },
      "execution_count": null,
      "outputs": [
        {
          "output_type": "stream",
          "name": "stdout",
          "text": [
            "['photoshop', 'window', 'office', 'cheap', 'main', 'trending']\n"
          ]
        }
      ]
    },
    {
      "cell_type": "code",
      "source": [
        "# Build the bigram and trigram models\n",
        "bigram_Sub = gensim.models.Phrases(data_words_Sub, min_count=50, threshold=100) # higher threshold fewer phrases.\n",
        "trigram_Sub = gensim.models.Phrases(bigram_Sub[data_words_Sub], threshold=100)\n",
        "# Faster way to get a sentence clubbed as a trigram/bigram\n",
        "bigram_mod_Sub = gensim.models.phrases.Phraser(bigram_Sub)\n",
        "trigram_mod_Sub = gensim.models.phrases.Phraser(trigram_Sub)"
      ],
      "metadata": {
        "colab": {
          "base_uri": "https://localhost:8080/"
        },
        "id": "KdeDo8ONtpBc",
        "outputId": "1862f1be-9896-4fe3-8607-e53851870c36"
      },
      "execution_count": null,
      "outputs": [
        {
          "output_type": "stream",
          "name": "stderr",
          "text": [
            "/usr/local/lib/python3.7/dist-packages/gensim/models/phrases.py:598: UserWarning: For a faster implementation, use the gensim.models.phrases.Phraser class\n",
            "  warnings.warn(\"For a faster implementation, use the gensim.models.phrases.Phraser class\")\n"
          ]
        }
      ]
    },
    {
      "cell_type": "code",
      "source": [
        "def make_bigrams(texts):\n",
        "    return [bigram_mod_Sub[doc] for doc in texts]\n",
        "def make_trigrams(texts):\n",
        "    return [trigram_mod_Sub[bigram_mod_Sub[doc]] for doc in texts]\n",
        "def lemmatization(texts, allowed_postags=['NOUN', 'ADJ', 'ADV']):\n",
        "    \"\"\"https://spacy.io/api/annotation\"\"\"\n",
        "    texts_out = []\n",
        "    for sent in texts:\n",
        "        doc = nlp(\" \".join(sent)) \n",
        "        texts_out.append([token.lemma_ for token in doc if token.pos_ in allowed_postags])\n",
        "    return texts_out"
      ],
      "metadata": {
        "id": "Ekr9PQ4puPTI"
      },
      "execution_count": null,
      "outputs": []
    },
    {
      "cell_type": "code",
      "source": [
        "#!pip install spacy\n",
        "import spacy\n",
        "# Form Bigrams\n",
        "data_words_bigrams_Sub = make_bigrams(Subject['clean_Sub'])\n",
        "# Initialize spacy 'en' model, keeping only tagger component (for efficiency)\n",
        "nlp = spacy.load(\"en_core_web_sm\", disable=['parser', 'ner'])\n",
        "# Do lemmatization keeping only noun, adj, vb, adv\n",
        "data_lemmatized_Sub = lemmatization(data_words_bigrams_Sub, allowed_postags=['NOUN', 'ADJ','ADV'])\n",
        "print(data_lemmatized_Sub[:1])"
      ],
      "metadata": {
        "colab": {
          "base_uri": "https://localhost:8080/"
        },
        "id": "T15teh-5udp8",
        "outputId": "4468b06b-d0d9-438b-88db-29f88ca8bc1d"
      },
      "execution_count": null,
      "outputs": [
        {
          "output_type": "stream",
          "name": "stdout",
          "text": [
            "[['window', 'office', 'cheap', 'main', 'trending']]\n"
          ]
        }
      ]
    },
    {
      "cell_type": "code",
      "source": [
        "import gensim.corpora as corpora\n",
        "# Create Dictionary\n",
        "id2word_Sub = corpora.Dictionary(data_words_bigrams_Sub)\n",
        "# Create Corpus\n",
        "texts_Sub = data_lemmatized_Sub\n",
        "# Term Document Frequency\n",
        "corpus_Sub = [id2word_Sub.doc2bow(text) for text in texts_Sub]\n",
        "# View\n",
        "print(corpus_Sub[:1])"
      ],
      "metadata": {
        "colab": {
          "base_uri": "https://localhost:8080/"
        },
        "id": "Q8voW6iGvl6r",
        "outputId": "86c97e9e-9f7c-4ea8-fd81-5077f9e6badc"
      },
      "execution_count": null,
      "outputs": [
        {
          "output_type": "stream",
          "name": "stdout",
          "text": [
            "[[(0, 1), (1, 1), (2, 1), (4, 1), (5, 1)]]\n"
          ]
        }
      ]
    },
    {
      "cell_type": "code",
      "source": [
        "# supporting function\n",
        "def compute_coherence_values(corpus, dictionary, k, a, b):\n",
        "    \n",
        "    lda_model = gensim.models.LdaMulticore(corpus=corpus,\n",
        "                                           id2word=dictionary,\n",
        "                                           num_topics=k, \n",
        "                                           random_state=100,\n",
        "                                           chunksize=100,\n",
        "                                           passes=10,\n",
        "                                           alpha=a,\n",
        "                                           eta=b)\n",
        "    \n",
        "    coherence_model_lda = CoherenceModel(model=lda_model, texts=data_lemmatized_Sub, dictionary=id2word_Sub, coherence='c_v')\n",
        "    \n",
        "    return coherence_model_lda.get_coherence()"
      ],
      "metadata": {
        "id": "qH6JyZZPvwQD"
      },
      "execution_count": null,
      "outputs": []
    },
    {
      "cell_type": "code",
      "source": [
        "lda_model_Sub = gensim.models.ldamodel.LdaModel(corpus=corpus_Sub,\n",
        "                                           id2word=id2word_Sub,\n",
        "                                           num_topics= 10, #change it 1-10\n",
        "                                           random_state=100,\n",
        "                                           update_every=1,\n",
        "                                           chunksize=10,\n",
        "                                           passes=10,\n",
        "                                           per_word_topics=True)"
      ],
      "metadata": {
        "id": "rRWyus6WwLe_"
      },
      "execution_count": null,
      "outputs": []
    },
    {
      "cell_type": "code",
      "source": [
        "from gensim.models import CoherenceModel\n",
        "# Compute Coherence Score for topic 2\n",
        "coherence_model_lda_Sub = CoherenceModel(model=lda_model_Sub, texts=data_lemmatized_Sub, dictionary=id2word_Sub, coherence='c_v')\n",
        "coherence_lda_Sub = coherence_model_lda_Sub.get_coherence()\n",
        "print('\\nCoherence Score: ', coherence_lda_Sub)"
      ],
      "metadata": {
        "colab": {
          "base_uri": "https://localhost:8080/"
        },
        "id": "wda7IV3EwOeF",
        "outputId": "9132f0a5-1f73-433b-8985-3efc26a27d5e"
      },
      "execution_count": null,
      "outputs": [
        {
          "output_type": "stream",
          "name": "stdout",
          "text": [
            "\n",
            "Coherence Score:  0.6501762298165314\n"
          ]
        }
      ]
    },
    {
      "cell_type": "markdown",
      "source": [
        "Topics identified from subject lines"
      ],
      "metadata": {
        "id": "t5EWeNJAuPnc"
      }
    },
    {
      "cell_type": "code",
      "source": [
        "from pprint import pprint\n",
        "# Print the Keyword in the 10 topics\n",
        "pprint(lda_model_Sub.print_topics())\n",
        "doc_lda_Sub = lda_model_Sub[corpus_Sub]"
      ],
      "metadata": {
        "colab": {
          "base_uri": "https://localhost:8080/"
        },
        "id": "Te5djDp2wU3b",
        "outputId": "d426da80-4163-4841-fe0d-d582be37af3c"
      },
      "execution_count": null,
      "outputs": [
        {
          "output_type": "stream",
          "name": "stdout",
          "text": [
            "[(0,\n",
            "  '0.049*\"free\" + 0.035*\"v\" + 0.027*\"great\" + 0.024*\"movie\" + 0.022*\"pro\" + '\n",
            "  '0.022*\"laptop\" + 0.018*\"sample\" + 0.015*\"awesome\" + 0.015*\"contact\" + '\n",
            "  '0.014*\"computer\"'),\n",
            " (1,\n",
            "  '0.055*\"new\" + 0.042*\"news\" + 0.040*\"real\" + 0.038*\"alert\" + 0.023*\"teen\" + '\n",
            "  '0.021*\"night\" + 0.020*\"vacation\" + 0.017*\"security\" + 0.015*\"soft\" + '\n",
            "  '0.015*\"love\"'),\n",
            " (2,\n",
            "  '0.038*\"low\" + 0.028*\"shipping\" + 0.026*\"life\" + 0.023*\"popular\" + '\n",
            "  '0.020*\"eg\" + 0.020*\"overnight\" + 0.018*\"pill\" + 0.017*\"big\" + 0.016*\"gain\" '\n",
            "  '+ 0.015*\"omega\"'),\n",
            " (3,\n",
            "  '0.066*\"online\" + 0.050*\"med\" + 0.045*\"cheap\" + 0.037*\"quality\" + '\n",
            "  '0.027*\"pharmacy\" + 0.026*\"good\" + 0.024*\"ption\" + 0.024*\"prescri\" + '\n",
            "  '0.020*\"pound\" + 0.018*\"medicine\"'),\n",
            " (4,\n",
            "  '0.057*\"pain\" + 0.055*\"price\" + 0.049*\"stock\" + 0.036*\"special\" + '\n",
            "  '0.030*\"order\" + 0.025*\"dru\" + 0.023*\"sale\" + 0.021*\"penny\" + 0.016*\"rank\" + '\n",
            "  '0.016*\"reliever\"'),\n",
            " (5,\n",
            "  '0.064*\"software\" + 0.045*\"rolex\" + 0.027*\"market\" + 0.026*\"instantly\" + '\n",
            "  '0.023*\"timing\" + 0.021*\"opportunity\" + 0.018*\"notice\" + 0.016*\"expensive\" + '\n",
            "  '0.015*\"small\" + 0.014*\"door\"'),\n",
            " (6,\n",
            "  '0.042*\"site\" + 0.040*\"hot\" + 0.033*\"system\" + 0.028*\"boy\" + 0.019*\"time\" + '\n",
            "  '0.018*\"old\" + 0.016*\"job\" + 0.015*\"unique\" + 0.014*\"review\" + '\n",
            "  '0.014*\"stuffer\"'),\n",
            " (7,\n",
            "  '0.031*\"strong\" + 0.026*\"internet\" + 0.024*\"customer\" + 0.020*\"weight\" + '\n",
            "  '0.020*\"viagrra\" + 0.019*\"newsletter\" + 0.018*\"wrinkle\" + 0.017*\"lose\" + '\n",
            "  '0.016*\"money\" + 0.013*\"backward\"'),\n",
            " (8,\n",
            "  '0.039*\"download\" + 0.029*\"private\" + 0.022*\"card\" + 0.021*\"recipe\" + '\n",
            "  '0.019*\"video\" + 0.018*\"business\" + 0.018*\"moment\" + 0.018*\"pc\" + '\n",
            "  '0.014*\"viagr\" + 0.012*\"nose\"'),\n",
            " (9,\n",
            "  '0.040*\"today\" + 0.033*\"available\" + 0.030*\"info\" + 0.028*\"verification\" + '\n",
            "  '0.024*\"script\" + 0.024*\"degree\" + 0.022*\"important\" + 0.022*\"banking\" + '\n",
            "  '0.019*\"charset\" + 0.019*\"iso\"')]\n"
          ]
        }
      ]
    },
    {
      "cell_type": "code",
      "source": [
        "data_Body = Subject['clean_Body']\n",
        "data_words_Body = list(sent_to_words(data_Body))\n",
        "print(data_words_Body[:1][0][:30])"
      ],
      "metadata": {
        "colab": {
          "base_uri": "https://localhost:8080/"
        },
        "id": "FrZnwXlAwYCr",
        "outputId": "f9b16c68-bbf3-4e01-9340-77cc4f351909"
      },
      "execution_count": null,
      "outputs": [
        {
          "output_type": "stream",
          "name": "stdout",
          "text": [
            "['abasement', 'darer', 'prudently', 'fortuitous', 'undergone', 'lighthearted', 'charm', 'orinoco', 'taster', 'railroad', 'affluent', 'pornographic', 'cuvier', 'irvin', 'parkhouse', 'blameworthy', 'chlorophyll', 'robed', 'diagrammatic', 'fogarty', 'clear', 'bayda', 'inconveniencing', 'managing', 'represented', 'smartness', 'hashish', 'academy', 'shareholder', 'unload']\n"
          ]
        }
      ]
    },
    {
      "cell_type": "code",
      "source": [
        "# Build the bigram and trigram models\n",
        "bigram_Body = gensim.models.Phrases(data_words_Body, min_count=50, threshold=100) # higher threshold fewer phrases.\n",
        "trigram_Body = gensim.models.Phrases(bigram_Body[data_words_Body], threshold=100)\n",
        "# Faster way to get a sentence clubbed as a trigram/bigram\n",
        "bigram_mod_Body = gensim.models.phrases.Phraser(bigram_Body)\n",
        "trigram_mod_Body = gensim.models.phrases.Phraser(trigram_Body)"
      ],
      "metadata": {
        "colab": {
          "base_uri": "https://localhost:8080/"
        },
        "id": "Fdh4MecQuxZT",
        "outputId": "3d0f29f6-b5b8-4d7c-fcf7-490c66f3fb17"
      },
      "execution_count": null,
      "outputs": [
        {
          "output_type": "stream",
          "name": "stderr",
          "text": [
            "/usr/local/lib/python3.7/dist-packages/gensim/models/phrases.py:598: UserWarning: For a faster implementation, use the gensim.models.phrases.Phraser class\n",
            "  warnings.warn(\"For a faster implementation, use the gensim.models.phrases.Phraser class\")\n"
          ]
        }
      ]
    },
    {
      "cell_type": "code",
      "source": [
        "def make_bigrams_Body(texts):\n",
        "    return [bigram_mod_Body[doc] for doc in texts]\n",
        "def make_trigrams_Body(texts):\n",
        "    return [trigram_mod_Body[bigram_mod_Body[doc]] for doc in texts]\n",
        "def lemmatization(texts, allowed_postags=['NOUN', 'ADJ', 'ADV']):\n",
        "    \"\"\"https://spacy.io/api/annotation\"\"\"\n",
        "    texts_out = []\n",
        "    for sent in texts:\n",
        "        doc = nlp(\" \".join(sent)) \n",
        "        texts_out.append([token.lemma_ for token in doc if token.pos_ in allowed_postags])\n",
        "    return texts_out"
      ],
      "metadata": {
        "id": "iLy4qnOCyaDe"
      },
      "execution_count": null,
      "outputs": []
    },
    {
      "cell_type": "code",
      "source": [
        "# Form Bigrams\n",
        "data_words_bigrams_Body = make_bigrams_Body(Subject['clean_Sub'])\n",
        "# Initialize spacy 'en' model, keeping only tagger component (for efficiency)\n",
        "nlp = spacy.load(\"en_core_web_sm\", disable=['parser', 'ner'])\n",
        "# Do lemmatization keeping only noun, adj, vb, adv\n",
        "data_lemmatized_Body = lemmatization(data_words_bigrams_Body, allowed_postags=['NOUN', 'ADJ','ADV'])\n",
        "print(data_lemmatized_Body[:1])"
      ],
      "metadata": {
        "colab": {
          "base_uri": "https://localhost:8080/"
        },
        "id": "ek0WmGQ9u7oh",
        "outputId": "a916fed9-e44b-4af3-ae69-1ee05a0f7c7a"
      },
      "execution_count": null,
      "outputs": [
        {
          "output_type": "stream",
          "name": "stdout",
          "text": [
            "[['window', 'office', 'cheap', 'main', 'trending']]\n"
          ]
        }
      ]
    },
    {
      "cell_type": "code",
      "source": [
        "# Create Dictionary\n",
        "id2word_Body = corpora.Dictionary(data_words_bigrams_Body)\n",
        "# Create Corpus\n",
        "texts_Body = data_lemmatized_Body\n",
        "# Term Document Frequency\n",
        "corpus_Body = [id2word_Body.doc2bow(text) for text in texts_Body]\n",
        "# View\n",
        "print(corpus_Body[:1])"
      ],
      "metadata": {
        "colab": {
          "base_uri": "https://localhost:8080/"
        },
        "id": "rN7Fmokow-VU",
        "outputId": "bb3c53e1-75da-446f-b478-26882da8fb6e"
      },
      "execution_count": null,
      "outputs": [
        {
          "output_type": "stream",
          "name": "stdout",
          "text": [
            "[[(0, 1), (1, 1), (2, 1), (4, 1), (5, 1)]]\n"
          ]
        }
      ]
    },
    {
      "cell_type": "code",
      "source": [
        "lda_model_Body = gensim.models.ldamodel.LdaModel(corpus=corpus_Body,\n",
        "                                           id2word=id2word_Body,\n",
        "                                           num_topics= 10, #change it 1-10\n",
        "                                           random_state=100,\n",
        "                                           update_every=1,\n",
        "                                           chunksize=10,\n",
        "                                           passes=10,\n",
        "                                           per_word_topics=True)"
      ],
      "metadata": {
        "id": "RRTvOWnAxMDZ"
      },
      "execution_count": null,
      "outputs": []
    },
    {
      "cell_type": "code",
      "source": [
        "from gensim.models import CoherenceModel\n",
        "# Compute Coherence Score for topic 2\n",
        "coherence_model_lda_Body = CoherenceModel(model=lda_model_Body, texts=data_lemmatized_Body, dictionary=id2word_Body, coherence='c_v')\n",
        "coherence_lda_Body = coherence_model_lda_Body.get_coherence()\n",
        "print('\\nCoherence Score: ', coherence_lda_Body)"
      ],
      "metadata": {
        "colab": {
          "base_uri": "https://localhost:8080/"
        },
        "id": "lf02Y0OpxVlV",
        "outputId": "7a7e5afb-2ad6-44d0-f550-fdacb627be4e"
      },
      "execution_count": null,
      "outputs": [
        {
          "output_type": "stream",
          "name": "stdout",
          "text": [
            "\n",
            "Coherence Score:  0.6532421563592256\n"
          ]
        }
      ]
    },
    {
      "cell_type": "markdown",
      "source": [
        "Topics identified from email body"
      ],
      "metadata": {
        "id": "EQgSpZh83HU-"
      }
    },
    {
      "cell_type": "code",
      "source": [
        "from pprint import pprint\n",
        "# Print the Keyword in the 10 topics\n",
        "pprint(lda_model_Body.print_topics())\n",
        "doc_lda_Body = lda_model_Sub[corpus_Body]"
      ],
      "metadata": {
        "colab": {
          "base_uri": "https://localhost:8080/"
        },
        "id": "VM_djNc1xpMS",
        "outputId": "25914505-4f07-4e38-82c4-d4896b8169df"
      },
      "execution_count": null,
      "outputs": [
        {
          "output_type": "stream",
          "name": "stdout",
          "text": [
            "[(0,\n",
            "  '0.045*\"today\" + 0.040*\"order\" + 0.033*\"dru\" + 0.026*\"customer\" + '\n",
            "  '0.021*\"recipe\" + 0.019*\"day\" + 0.018*\"back\" + 0.017*\"money\" + 0.013*\"kit\" + '\n",
            "  '0.012*\"labeling\"'),\n",
            " (1,\n",
            "  '0.051*\"free\" + 0.049*\"news\" + 0.038*\"pharmacy\" + 0.026*\"internet\" + '\n",
            "  '0.025*\"timing\" + 0.023*\"opportunity\" + 0.020*\"overseas\" + 0.017*\"mirant\" + '\n",
            "  '0.011*\"camera\" + 0.011*\"mother\"'),\n",
            " (2,\n",
            "  '0.045*\"rolex\" + 0.025*\"great\" + 0.023*\"night\" + 0.023*\"vacation\" + '\n",
            "  '0.020*\"time\" + 0.019*\"card\" + 0.017*\"watch\" + 0.017*\"expensive\" + '\n",
            "  '0.015*\"pc\" + 0.015*\"high\"'),\n",
            " (3,\n",
            "  '0.082*\"online\" + 0.062*\"med\" + 0.056*\"cheap\" + 0.033*\"download\" + '\n",
            "  '0.030*\"prescri\" + 0.030*\"ption\" + 0.023*\"script\" + 0.018*\"eg\" + '\n",
            "  '0.017*\"doctor\" + 0.015*\"rug\"'),\n",
            " (4,\n",
            "  '0.047*\"quality\" + 0.036*\"system\" + 0.033*\"good\" + 0.032*\"available\" + '\n",
            "  '0.027*\"market\" + 0.025*\"pound\" + 0.024*\"teen\" + 0.023*\"medicine\" + '\n",
            "  '0.018*\"security\" + 0.016*\"love\"'),\n",
            " (5,\n",
            "  '0.029*\"info\" + 0.026*\"sale\" + 0.022*\"important\" + 0.022*\"banking\" + '\n",
            "  '0.021*\"pro\" + 0.019*\"weight\" + 0.018*\"notice\" + 0.017*\"wrinkle\" + '\n",
            "  '0.016*\"moment\" + 0.016*\"lose\"'),\n",
            " (6,\n",
            "  '0.031*\"verification\" + 0.027*\"degree\" + 0.023*\"laptop\" + 0.021*\"viagrra\" + '\n",
            "  '0.019*\"video\" + 0.017*\"feature\" + 0.016*\"surge\" + 0.016*\"sudden\" + '\n",
            "  '0.015*\"computer\" + 0.015*\"deiiver\"'),\n",
            " (7,\n",
            "  '0.053*\"software\" + 0.038*\"site\" + 0.037*\"hot\" + 0.025*\"boy\" + '\n",
            "  '0.022*\"instantly\" + 0.022*\"private\" + 0.019*\"movie\" + 0.016*\"old\" + '\n",
            "  '0.015*\"charset\" + 0.015*\"job\"'),\n",
            " (8,\n",
            "  '0.053*\"pain\" + 0.051*\"price\" + 0.045*\"stock\" + 0.033*\"special\" + '\n",
            "  '0.028*\"low\" + 0.019*\"penny\" + 0.019*\"review\" + 0.017*\"rank\" + '\n",
            "  '0.017*\"popular\" + 0.015*\"reliever\"'),\n",
            " (9,\n",
            "  '0.055*\"new\" + 0.040*\"real\" + 0.038*\"alert\" + 0.030*\"v\" + 0.027*\"strong\" + '\n",
            "  '0.023*\"shipping\" + 0.022*\"life\" + 0.017*\"overnight\" + 0.015*\"pill\" + '\n",
            "  '0.014*\"service\"')]\n"
          ]
        }
      ]
    },
    {
      "cell_type": "markdown",
      "source": [
        "Most of the subject lines and the body have the same text/keywords. While there are a few emails which don't have completely matching keywords/text of the subject line and body. Still body might contain a few topics/keywords which can be classified as SPAM like card, verification, job, software and names of some expensive brands like Rolex."
      ],
      "metadata": {
        "id": "e87OsMeM2ENF"
      }
    }
  ]
}